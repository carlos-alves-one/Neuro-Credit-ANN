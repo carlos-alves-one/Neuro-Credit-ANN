{
  "nbformat": 4,
  "nbformat_minor": 0,
  "metadata": {
    "colab": {
      "provenance": [],
      "toc_visible": true,
      "authorship_tag": "ABX9TyPfttN9qF0kc9fT9SzJZ3UK",
      "include_colab_link": true
    },
    "kernelspec": {
      "name": "python3",
      "display_name": "Python 3"
    },
    "language_info": {
      "name": "python"
    }
  },
  "cells": [
    {
      "cell_type": "markdown",
      "metadata": {
        "id": "view-in-github",
        "colab_type": "text"
      },
      "source": [
        "<a href=\"https://colab.research.google.com/github/carlos-alves-one/-AI-Coursework-1/blob/main/neuro_credit_report.ipynb\" target=\"_parent\"><img src=\"https://colab.research.google.com/assets/colab-badge.svg\" alt=\"Open In Colab\"/></a>"
      ]
    },
    {
      "cell_type": "markdown",
      "source": [
        "### Goldsmiths University of London\n",
        "### MSc. Data Science and Artificial Intelligence\n",
        "### Module: Artificial Intelligence\n",
        "### Author: Carlos Manuel De Oliveira Alves\n",
        "### Student: cdeol003\n",
        "### Coursework No.1"
      ],
      "metadata": {
        "id": "SMej7heamC38"
      }
    },
    {
      "cell_type": "markdown",
      "source": [
        "#Project\n",
        "NeuroCredit: Leveraging ANN for Credit Risk Assessment"
      ],
      "metadata": {
        "id": "XJNAcOo5mlJA"
      }
    },
    {
      "cell_type": "markdown",
      "source": [
        "# Introduction\n",
        "In the previous academic year, I undertook the development of an extensive dataset as a component of my research project for the purpose of obtaining a degree in Computer Science. This dataset encompasses a wide range of factors relevant to credit analysis and integrates them into a cohesive framework. Titled \"Neuro Credit Analysis,\" the dataset served as a fundamental resource for investigating the complex realm of credit rating and financial behaviour through computer approaches. The objective of this dataset is to utilise advanced computational methods to decipher the patterns and determinants associated with credit activity. This research aims to investigate the impact of various characteristics on an individual's creditworthiness and the probability of loan approval by utilising machine learning, data analysis, and predictive modelling techniques. The process of constructing this dataset was conducted with great attention to detail, encompassing diligent gathering, thorough cleaning, and precise data organisation. The utilisation of this tool enabled a comprehensive examination for my scholarly endeavour and made a substantial contribution to the study of financial data."
      ],
      "metadata": {
        "id": "eLQvW-MbmlFy"
      }
    },
    {
      "cell_type": "markdown",
      "source": [
        "# Methodology"
      ],
      "metadata": {
        "id": "96pHIcLVru-b"
      }
    },
    {
      "cell_type": "markdown",
      "source": [
        "## Framing the Problem in Neuro Credit Analysis\n",
        "In the fields of data science and machine learning, the process of defining the problem at hand is of utmost importance as it establishes the foundation for all subsequent analysis and modelling endeavours. The process entails the establishment of clear objectives, comprehensive comprehension of the contextual factors, and the identification of appropriate analytical methodologies or machine learning algorithms. In the context of the Neuro Credit Analysis dataset, the problem might be formulated as follows:\n",
        "- Defining the Objective: The main objective of the Neuro Credit Analysis dataset is to comprehensively comprehend and forecast the various aspects that exert an influence on creditworthiness and the determinations made regarding loan approval. This entails identifying attributes that substantially impact an individual's risk profile and the probability of loan approval or denial.\n",
        "- Understanding the Context: The present context pertains to the domain of credit analysis within finance. This necessitates a comprehensive comprehension of the financial realm and the intricate interplay between diverse criteria such as credit history, income, employment status, and other relevant variables that impact credit decisions. Comprehending the ramifications of these aspects is essential for conducting a thorough analysis.\n",
        "- Determining the Analytical Approach:\n",
        "  - Exploratory Data Analysis (EDA): Conducting an exploratory investigation is a crucial preliminary step before engaging with intricate models. This encompasses the process of visualising distributions of diverse features, comprehending correlations, and detecting patterns or anomalies within the data.\n",
        "  - Statistical Analysis: The process of loan approval may necessitate the utilisation of hypothesis testing in order to ascertain the significance of different criteria.\n",
        "  - Predictive Modeling: The problem can be approached as a classification task to predict whether a loan will be approved or rejected based on the given attributes.\n",
        "- Choosing the Right Tools and Techniques:\n",
        "  - For EDA, tools like pandas, Matplotlib, and Seaborn in Python are ideal.\n",
        "  - For statistical analysis, techniques like chi-square tests for categorical variables and t-tests or ANOVA for numerical variables might be relevant.\n",
        "  - Predictive modelling can utilise machine learning techniques such as logistic regression, decision trees, random forests, or gradient boosting machines. In this project, we will implement a primary artificial neural network limited to sequential dense and dropout layers.\n",
        "- Evaluating the Model:Determining the right metrics for model evaluation is critical. In a credit approval context, metrics like accuracy, precision, recall, F1-score, and the ROC-AUC curve are essential to evaluate the model's performance.\n",
        "- Understanding Ethical Implications: Credit analysis models must be fair and unbiased. It is essential to ensure that the model does not inadvertently discriminate against any group of individuals based on sensitive attributes like race, gender, or age.\n",
        "- Real-World Viability: The model should not only be accurate but also practical and interpretable. This means it should be capable of being deployed in a real-world financial setting and provide understandable reasons for its decisions.\n",
        "\n",
        "Framing the problem in this structured manner ensures a focused and practical approach to analyzing the Neuro Credit Analysis dataset. It guides the selection of methodologies and techniques and lays the foundation for generating insights that are both meaningful and actionable in the realm of credit analysis."
      ],
      "metadata": {
        "id": "J4VwdMVlr32m"
      }
    },
    {
      "cell_type": "markdown",
      "source": [
        "##Preparing the Data\n",
        "Data preparation is crucial in data science, especially when dealing with complex datasets like the Neuro Credit Analysis. This step involves transforming the raw data into a suitable format for analysis or modelling. Here is how the data can be prepared:"
      ],
      "metadata": {
        "id": "7LUC03pa3EZG"
      }
    },
    {
      "cell_type": "markdown",
      "source": [],
      "metadata": {
        "id": "Mcmr_InQ3_Gg"
      }
    }
  ]
}