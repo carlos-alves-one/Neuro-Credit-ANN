{
  "nbformat": 4,
  "nbformat_minor": 0,
  "metadata": {
    "colab": {
      "provenance": [],
      "toc_visible": true,
      "gpuType": "T4",
      "authorship_tag": "ABX9TyMju4GFwsOsfqPhw8oJFwxU",
      "include_colab_link": true
    },
    "kernelspec": {
      "name": "python3",
      "display_name": "Python 3"
    },
    "language_info": {
      "name": "python"
    },
    "accelerator": "GPU"
  },
  "cells": [
    {
      "cell_type": "markdown",
      "metadata": {
        "id": "view-in-github",
        "colab_type": "text"
      },
      "source": [
        "<a href=\"https://colab.research.google.com/github/carlos-alves-one/-AI-Coursework-1/blob/main/neuro_credit_report.ipynb\" target=\"_parent\"><img src=\"https://colab.research.google.com/assets/colab-badge.svg\" alt=\"Open In Colab\"/></a>"
      ]
    },
    {
      "cell_type": "markdown",
      "source": [
        "### Goldsmiths University of London\n",
        "### MSc. Data Science and Artificial Intelligence\n",
        "### Module: Artificial Intelligence\n",
        "### Author: Carlos Manuel De Oliveira Alves\n",
        "### Student: cdeol003\n",
        "### Coursework No.1"
      ],
      "metadata": {
        "id": "SMej7heamC38"
      }
    },
    {
      "cell_type": "markdown",
      "source": [
        "#Project\n",
        "NeuroCredit: Leveraging ANN for Credit Risk Assessment"
      ],
      "metadata": {
        "id": "XJNAcOo5mlJA"
      }
    },
    {
      "cell_type": "markdown",
      "source": [
        "# Introduction\n",
        "In the previous academic year, I undertook the development of an extensive dataset as a component of my research project for the purpose of obtaining a degree in Computer Science. This dataset encompasses a wide range of factors relevant to credit analysis and integrates them into a cohesive framework. Titled \"Neuro Credit Analysis,\" the dataset served as a fundamental resource for investigating the complex realm of credit rating and financial behaviour through computer approaches. The objective of this dataset is to utilise advanced computational methods to decipher the patterns and determinants associated with credit activity. This research aims to investigate the impact of various characteristics on an individual's creditworthiness and the probability of loan approval by utilising machine learning, data analysis, and predictive modelling techniques. The process of constructing this dataset was conducted with great attention to detail, encompassing diligent gathering, thorough cleaning, and precise data organisation. The utilisation of this tool enabled a comprehensive examination for my scholarly endeavour and made a substantial contribution to the study of financial data."
      ],
      "metadata": {
        "id": "eLQvW-MbmlFy"
      }
    },
    {
      "cell_type": "markdown",
      "source": [
        "# Methodology"
      ],
      "metadata": {
        "id": "96pHIcLVru-b"
      }
    },
    {
      "cell_type": "markdown",
      "source": [
        "## Framing the Problem in Neuro Credit Analysis\n",
        "In the fields of data science and machine learning, the process of defining the problem at hand is of utmost importance as it establishes the foundation for all subsequent analysis and modelling endeavours. The process entails the establishment of clear objectives, comprehensive comprehension of the contextual factors, and the identification of appropriate analytical methodologies or machine learning algorithms. In the context of the Neuro Credit Analysis dataset, the problem might be formulated as follows:\n",
        "- Defining the Objective: The main objective of the Neuro Credit Analysis dataset is to comprehensively comprehend and forecast the various aspects that exert an influence on creditworthiness and the determinations made regarding loan approval. This entails identifying attributes that substantially impact an individual's risk profile and the probability of loan approval or denial.\n",
        "- Understanding the Context: The present context pertains to the domain of credit analysis within finance. This necessitates a comprehensive comprehension of the financial realm and the intricate interplay between diverse criteria such as credit history, income, employment status, and other relevant variables that impact credit decisions. Comprehending the ramifications of these aspects is essential for conducting a thorough analysis.\n",
        "- Determining the Analytical Approach:\n",
        "  - Exploratory Data Analysis (EDA): Conducting an exploratory investigation is a crucial preliminary step before engaging with intricate models. This encompasses the process of visualising distributions of diverse features, comprehending correlations, and detecting patterns or anomalies within the data.\n",
        "  - Statistical Analysis: The process of loan approval may necessitate the utilisation of hypothesis testing in order to ascertain the significance of different criteria.\n",
        "  - Predictive Modeling: The problem can be approached as a classification task to predict whether a loan will be approved or rejected based on the given attributes.\n",
        "- Choosing the Right Tools and Techniques:\n",
        "  - For EDA, tools like pandas, Matplotlib, and Seaborn in Python are ideal.\n",
        "  - For statistical analysis, techniques like chi-square tests for categorical variables and t-tests or ANOVA for numerical variables might be relevant.\n",
        "  - Predictive modelling can utilise machine learning techniques such as logistic regression, decision trees, random forests, or gradient boosting machines. In this project, we will implement a primary artificial neural network limited to sequential dense and dropout layers.\n",
        "- Evaluating the Model:Determining the right metrics for model evaluation is critical. In a credit approval context, metrics like accuracy, precision, recall, F1-score, and the ROC-AUC curve are essential to evaluate the model's performance.\n",
        "- Understanding Ethical Implications: Credit analysis models must be fair and unbiased. It is essential to ensure that the model does not inadvertently discriminate against any group of individuals based on sensitive attributes like race, gender, or age.\n",
        "- Real-World Viability: The model should not only be accurate but also practical and interpretable. This means it should be capable of being deployed in a real-world financial setting and provide understandable reasons for its decisions.\n",
        "\n",
        "Framing the problem in this structured manner ensures a focused and practical approach to analyzing the Neuro Credit Analysis dataset. It guides the selection of methodologies and techniques and lays the foundation for generating insights that are both meaningful and actionable in the realm of credit analysis."
      ],
      "metadata": {
        "id": "J4VwdMVlr32m"
      }
    },
    {
      "cell_type": "markdown",
      "source": [
        "##Collect a Dataset"
      ],
      "metadata": {
        "id": "7LUC03pa3EZG"
      }
    },
    {
      "cell_type": "markdown",
      "source": [
        "### Load the data"
      ],
      "metadata": {
        "id": "Mcmr_InQ3_Gg"
      }
    },
    {
      "cell_type": "code",
      "source": [
        "# Imports the 'drive' module from 'google.colab' and mounts the Google Drive to\n",
        "# the '/content/drive' directory in the Colab environment.\n",
        "from google.colab import drive\n",
        "drive.mount('/content/drive')"
      ],
      "metadata": {
        "colab": {
          "base_uri": "https://localhost:8080/"
        },
        "id": "y-WBllU_4lx0",
        "outputId": "0e235bfa-1189-4c95-c039-eeaad1d6fe69"
      },
      "execution_count": 24,
      "outputs": [
        {
          "output_type": "stream",
          "name": "stdout",
          "text": [
            "Drive already mounted at /content/drive; to attempt to forcibly remount, call drive.mount(\"/content/drive\", force_remount=True).\n"
          ]
        }
      ]
    },
    {
      "cell_type": "code",
      "source": [
        "# Import the pandas library and give it the alias 'pd' for data manipulation and analysis\n",
        "import pandas as pd\n",
        "\n",
        "# Load the dataset glaucoma from Google Drive\n",
        "data_path = '/content/drive/MyDrive/neuro_credit.csv'\n",
        "neuro_credit_data = pd.read_csv(data_path)"
      ],
      "metadata": {
        "id": "-_TjFJ0I5KFf"
      },
      "execution_count": 25,
      "outputs": []
    },
    {
      "cell_type": "markdown",
      "source": [
        "Dataset source: https://github.com/carlos-alves-one/NeuroCredit"
      ],
      "metadata": {
        "id": "t9PJNmJg56Lz"
      }
    },
    {
      "cell_type": "markdown",
      "source": [
        "##Understand the Data"
      ],
      "metadata": {
        "id": "sMb4-lvR9NHG"
      }
    },
    {
      "cell_type": "code",
      "source": [
        "# Display the first few rows of the dataframe\n",
        "neuro_credit_data.head().T"
      ],
      "metadata": {
        "colab": {
          "base_uri": "https://localhost:8080/",
          "height": 676
        },
        "id": "IIN47K1R9k1J",
        "outputId": "b71b68d0-4848-42a0-a987-abaea3da1ec5"
      },
      "execution_count": 26,
      "outputs": [
        {
          "output_type": "execute_result",
          "data": {
            "text/plain": [
              "                                                                0  \\\n",
              "credit_history                                               Fair   \n",
              "employment_status                                      Unemployed   \n",
              "collateral                                                  Other   \n",
              "payment_history                                         Excellent   \n",
              "type_of_credit_accounts                                   Student   \n",
              "public_records_and_collections                              Other   \n",
              "purpose_of_loan                                  Home Improvement   \n",
              "income                                                      46319   \n",
              "assets_value                                                14680   \n",
              "debt_to_income_ratio                                           41   \n",
              "length_of_credit_history                                       24   \n",
              "number_of_credit_inquiries                                      5   \n",
              "number_of_credit_accounts                                       3   \n",
              "number_of_credit_accounts_opened_last_12_months                 4   \n",
              "current_balance_of_credit_accounts                           9591   \n",
              "total_credit_limit                                          17977   \n",
              "total_credit_utilization                                       61   \n",
              "loan_amount                                                  4315   \n",
              "saving_account_balance                                      10207   \n",
              "approval_status                                          Rejected   \n",
              "\n",
              "                                                                  1  \\\n",
              "credit_history                                                 Good   \n",
              "employment_status                                     Self-Employed   \n",
              "collateral                                                     None   \n",
              "payment_history                                                Poor   \n",
              "type_of_credit_accounts                                        Auto   \n",
              "public_records_and_collections                             Tax Lien   \n",
              "purpose_of_loan                                  Debt Consolidation   \n",
              "income                                                        15480   \n",
              "assets_value                                                  46713   \n",
              "debt_to_income_ratio                                             82   \n",
              "length_of_credit_history                                          0   \n",
              "number_of_credit_inquiries                                        5   \n",
              "number_of_credit_accounts                                         3   \n",
              "number_of_credit_accounts_opened_last_12_months                   2   \n",
              "current_balance_of_credit_accounts                             8727   \n",
              "total_credit_limit                                             2399   \n",
              "total_credit_utilization                                         60   \n",
              "loan_amount                                                    4263   \n",
              "saving_account_balance                                        16666   \n",
              "approval_status                                            Rejected   \n",
              "\n",
              "                                                                2  \\\n",
              "credit_history                                               Fair   \n",
              "employment_status                                   Self-Employed   \n",
              "collateral                                                  House   \n",
              "payment_history                                              Fair   \n",
              "type_of_credit_accounts                                  Personal   \n",
              "public_records_and_collections                         Bankruptcy   \n",
              "purpose_of_loan                                  Home Improvement   \n",
              "income                                                      21614   \n",
              "assets_value                                                13026   \n",
              "debt_to_income_ratio                                           68   \n",
              "length_of_credit_history                                       99   \n",
              "number_of_credit_inquiries                                      1   \n",
              "number_of_credit_accounts                                       4   \n",
              "number_of_credit_accounts_opened_last_12_months                 2   \n",
              "current_balance_of_credit_accounts                          13997   \n",
              "total_credit_limit                                          10655   \n",
              "total_credit_utilization                                       90   \n",
              "loan_amount                                                  2334   \n",
              "saving_account_balance                                      10413   \n",
              "approval_status                                          Rejected   \n",
              "\n",
              "                                                             3              4  \n",
              "credit_history                                            Good           Fair  \n",
              "employment_status                                   Unemployed     Unemployed  \n",
              "collateral                                               Other           Land  \n",
              "payment_history                                           Poor      Excellent  \n",
              "type_of_credit_accounts                               Mortgage       Personal  \n",
              "public_records_and_collections                           Other           None  \n",
              "purpose_of_loan                                  Car Financing  Car Financing  \n",
              "income                                                   25874          20389  \n",
              "assets_value                                             27908          44309  \n",
              "debt_to_income_ratio                                        34             75  \n",
              "length_of_credit_history                                    55             30  \n",
              "number_of_credit_inquiries                                   4              4  \n",
              "number_of_credit_accounts                                    4              0  \n",
              "number_of_credit_accounts_opened_last_12_months              2              5  \n",
              "current_balance_of_credit_accounts                       15684           1197  \n",
              "total_credit_limit                                       19176           4449  \n",
              "total_credit_utilization                                    54            100  \n",
              "loan_amount                                               4010           2977  \n",
              "saving_account_balance                                   16645          16366  \n",
              "approval_status                                       Rejected       Rejected  "
            ],
            "text/html": [
              "\n",
              "  <div id=\"df-92fb69b4-fdb4-4624-8279-aa8300b7feb8\" class=\"colab-df-container\">\n",
              "    <div>\n",
              "<style scoped>\n",
              "    .dataframe tbody tr th:only-of-type {\n",
              "        vertical-align: middle;\n",
              "    }\n",
              "\n",
              "    .dataframe tbody tr th {\n",
              "        vertical-align: top;\n",
              "    }\n",
              "\n",
              "    .dataframe thead th {\n",
              "        text-align: right;\n",
              "    }\n",
              "</style>\n",
              "<table border=\"1\" class=\"dataframe\">\n",
              "  <thead>\n",
              "    <tr style=\"text-align: right;\">\n",
              "      <th></th>\n",
              "      <th>0</th>\n",
              "      <th>1</th>\n",
              "      <th>2</th>\n",
              "      <th>3</th>\n",
              "      <th>4</th>\n",
              "    </tr>\n",
              "  </thead>\n",
              "  <tbody>\n",
              "    <tr>\n",
              "      <th>credit_history</th>\n",
              "      <td>Fair</td>\n",
              "      <td>Good</td>\n",
              "      <td>Fair</td>\n",
              "      <td>Good</td>\n",
              "      <td>Fair</td>\n",
              "    </tr>\n",
              "    <tr>\n",
              "      <th>employment_status</th>\n",
              "      <td>Unemployed</td>\n",
              "      <td>Self-Employed</td>\n",
              "      <td>Self-Employed</td>\n",
              "      <td>Unemployed</td>\n",
              "      <td>Unemployed</td>\n",
              "    </tr>\n",
              "    <tr>\n",
              "      <th>collateral</th>\n",
              "      <td>Other</td>\n",
              "      <td>None</td>\n",
              "      <td>House</td>\n",
              "      <td>Other</td>\n",
              "      <td>Land</td>\n",
              "    </tr>\n",
              "    <tr>\n",
              "      <th>payment_history</th>\n",
              "      <td>Excellent</td>\n",
              "      <td>Poor</td>\n",
              "      <td>Fair</td>\n",
              "      <td>Poor</td>\n",
              "      <td>Excellent</td>\n",
              "    </tr>\n",
              "    <tr>\n",
              "      <th>type_of_credit_accounts</th>\n",
              "      <td>Student</td>\n",
              "      <td>Auto</td>\n",
              "      <td>Personal</td>\n",
              "      <td>Mortgage</td>\n",
              "      <td>Personal</td>\n",
              "    </tr>\n",
              "    <tr>\n",
              "      <th>public_records_and_collections</th>\n",
              "      <td>Other</td>\n",
              "      <td>Tax Lien</td>\n",
              "      <td>Bankruptcy</td>\n",
              "      <td>Other</td>\n",
              "      <td>None</td>\n",
              "    </tr>\n",
              "    <tr>\n",
              "      <th>purpose_of_loan</th>\n",
              "      <td>Home Improvement</td>\n",
              "      <td>Debt Consolidation</td>\n",
              "      <td>Home Improvement</td>\n",
              "      <td>Car Financing</td>\n",
              "      <td>Car Financing</td>\n",
              "    </tr>\n",
              "    <tr>\n",
              "      <th>income</th>\n",
              "      <td>46319</td>\n",
              "      <td>15480</td>\n",
              "      <td>21614</td>\n",
              "      <td>25874</td>\n",
              "      <td>20389</td>\n",
              "    </tr>\n",
              "    <tr>\n",
              "      <th>assets_value</th>\n",
              "      <td>14680</td>\n",
              "      <td>46713</td>\n",
              "      <td>13026</td>\n",
              "      <td>27908</td>\n",
              "      <td>44309</td>\n",
              "    </tr>\n",
              "    <tr>\n",
              "      <th>debt_to_income_ratio</th>\n",
              "      <td>41</td>\n",
              "      <td>82</td>\n",
              "      <td>68</td>\n",
              "      <td>34</td>\n",
              "      <td>75</td>\n",
              "    </tr>\n",
              "    <tr>\n",
              "      <th>length_of_credit_history</th>\n",
              "      <td>24</td>\n",
              "      <td>0</td>\n",
              "      <td>99</td>\n",
              "      <td>55</td>\n",
              "      <td>30</td>\n",
              "    </tr>\n",
              "    <tr>\n",
              "      <th>number_of_credit_inquiries</th>\n",
              "      <td>5</td>\n",
              "      <td>5</td>\n",
              "      <td>1</td>\n",
              "      <td>4</td>\n",
              "      <td>4</td>\n",
              "    </tr>\n",
              "    <tr>\n",
              "      <th>number_of_credit_accounts</th>\n",
              "      <td>3</td>\n",
              "      <td>3</td>\n",
              "      <td>4</td>\n",
              "      <td>4</td>\n",
              "      <td>0</td>\n",
              "    </tr>\n",
              "    <tr>\n",
              "      <th>number_of_credit_accounts_opened_last_12_months</th>\n",
              "      <td>4</td>\n",
              "      <td>2</td>\n",
              "      <td>2</td>\n",
              "      <td>2</td>\n",
              "      <td>5</td>\n",
              "    </tr>\n",
              "    <tr>\n",
              "      <th>current_balance_of_credit_accounts</th>\n",
              "      <td>9591</td>\n",
              "      <td>8727</td>\n",
              "      <td>13997</td>\n",
              "      <td>15684</td>\n",
              "      <td>1197</td>\n",
              "    </tr>\n",
              "    <tr>\n",
              "      <th>total_credit_limit</th>\n",
              "      <td>17977</td>\n",
              "      <td>2399</td>\n",
              "      <td>10655</td>\n",
              "      <td>19176</td>\n",
              "      <td>4449</td>\n",
              "    </tr>\n",
              "    <tr>\n",
              "      <th>total_credit_utilization</th>\n",
              "      <td>61</td>\n",
              "      <td>60</td>\n",
              "      <td>90</td>\n",
              "      <td>54</td>\n",
              "      <td>100</td>\n",
              "    </tr>\n",
              "    <tr>\n",
              "      <th>loan_amount</th>\n",
              "      <td>4315</td>\n",
              "      <td>4263</td>\n",
              "      <td>2334</td>\n",
              "      <td>4010</td>\n",
              "      <td>2977</td>\n",
              "    </tr>\n",
              "    <tr>\n",
              "      <th>saving_account_balance</th>\n",
              "      <td>10207</td>\n",
              "      <td>16666</td>\n",
              "      <td>10413</td>\n",
              "      <td>16645</td>\n",
              "      <td>16366</td>\n",
              "    </tr>\n",
              "    <tr>\n",
              "      <th>approval_status</th>\n",
              "      <td>Rejected</td>\n",
              "      <td>Rejected</td>\n",
              "      <td>Rejected</td>\n",
              "      <td>Rejected</td>\n",
              "      <td>Rejected</td>\n",
              "    </tr>\n",
              "  </tbody>\n",
              "</table>\n",
              "</div>\n",
              "    <div class=\"colab-df-buttons\">\n",
              "\n",
              "  <div class=\"colab-df-container\">\n",
              "    <button class=\"colab-df-convert\" onclick=\"convertToInteractive('df-92fb69b4-fdb4-4624-8279-aa8300b7feb8')\"\n",
              "            title=\"Convert this dataframe to an interactive table.\"\n",
              "            style=\"display:none;\">\n",
              "\n",
              "  <svg xmlns=\"http://www.w3.org/2000/svg\" height=\"24px\" viewBox=\"0 -960 960 960\">\n",
              "    <path d=\"M120-120v-720h720v720H120Zm60-500h600v-160H180v160Zm220 220h160v-160H400v160Zm0 220h160v-160H400v160ZM180-400h160v-160H180v160Zm440 0h160v-160H620v160ZM180-180h160v-160H180v160Zm440 0h160v-160H620v160Z\"/>\n",
              "  </svg>\n",
              "    </button>\n",
              "\n",
              "  <style>\n",
              "    .colab-df-container {\n",
              "      display:flex;\n",
              "      gap: 12px;\n",
              "    }\n",
              "\n",
              "    .colab-df-convert {\n",
              "      background-color: #E8F0FE;\n",
              "      border: none;\n",
              "      border-radius: 50%;\n",
              "      cursor: pointer;\n",
              "      display: none;\n",
              "      fill: #1967D2;\n",
              "      height: 32px;\n",
              "      padding: 0 0 0 0;\n",
              "      width: 32px;\n",
              "    }\n",
              "\n",
              "    .colab-df-convert:hover {\n",
              "      background-color: #E2EBFA;\n",
              "      box-shadow: 0px 1px 2px rgba(60, 64, 67, 0.3), 0px 1px 3px 1px rgba(60, 64, 67, 0.15);\n",
              "      fill: #174EA6;\n",
              "    }\n",
              "\n",
              "    .colab-df-buttons div {\n",
              "      margin-bottom: 4px;\n",
              "    }\n",
              "\n",
              "    [theme=dark] .colab-df-convert {\n",
              "      background-color: #3B4455;\n",
              "      fill: #D2E3FC;\n",
              "    }\n",
              "\n",
              "    [theme=dark] .colab-df-convert:hover {\n",
              "      background-color: #434B5C;\n",
              "      box-shadow: 0px 1px 3px 1px rgba(0, 0, 0, 0.15);\n",
              "      filter: drop-shadow(0px 1px 2px rgba(0, 0, 0, 0.3));\n",
              "      fill: #FFFFFF;\n",
              "    }\n",
              "  </style>\n",
              "\n",
              "    <script>\n",
              "      const buttonEl =\n",
              "        document.querySelector('#df-92fb69b4-fdb4-4624-8279-aa8300b7feb8 button.colab-df-convert');\n",
              "      buttonEl.style.display =\n",
              "        google.colab.kernel.accessAllowed ? 'block' : 'none';\n",
              "\n",
              "      async function convertToInteractive(key) {\n",
              "        const element = document.querySelector('#df-92fb69b4-fdb4-4624-8279-aa8300b7feb8');\n",
              "        const dataTable =\n",
              "          await google.colab.kernel.invokeFunction('convertToInteractive',\n",
              "                                                    [key], {});\n",
              "        if (!dataTable) return;\n",
              "\n",
              "        const docLinkHtml = 'Like what you see? Visit the ' +\n",
              "          '<a target=\"_blank\" href=https://colab.research.google.com/notebooks/data_table.ipynb>data table notebook</a>'\n",
              "          + ' to learn more about interactive tables.';\n",
              "        element.innerHTML = '';\n",
              "        dataTable['output_type'] = 'display_data';\n",
              "        await google.colab.output.renderOutput(dataTable, element);\n",
              "        const docLink = document.createElement('div');\n",
              "        docLink.innerHTML = docLinkHtml;\n",
              "        element.appendChild(docLink);\n",
              "      }\n",
              "    </script>\n",
              "  </div>\n",
              "\n",
              "\n",
              "<div id=\"df-6255acf2-6016-430a-96ab-1786b05f799a\">\n",
              "  <button class=\"colab-df-quickchart\" onclick=\"quickchart('df-6255acf2-6016-430a-96ab-1786b05f799a')\"\n",
              "            title=\"Suggest charts\"\n",
              "            style=\"display:none;\">\n",
              "\n",
              "<svg xmlns=\"http://www.w3.org/2000/svg\" height=\"24px\"viewBox=\"0 0 24 24\"\n",
              "     width=\"24px\">\n",
              "    <g>\n",
              "        <path d=\"M19 3H5c-1.1 0-2 .9-2 2v14c0 1.1.9 2 2 2h14c1.1 0 2-.9 2-2V5c0-1.1-.9-2-2-2zM9 17H7v-7h2v7zm4 0h-2V7h2v10zm4 0h-2v-4h2v4z\"/>\n",
              "    </g>\n",
              "</svg>\n",
              "  </button>\n",
              "\n",
              "<style>\n",
              "  .colab-df-quickchart {\n",
              "      --bg-color: #E8F0FE;\n",
              "      --fill-color: #1967D2;\n",
              "      --hover-bg-color: #E2EBFA;\n",
              "      --hover-fill-color: #174EA6;\n",
              "      --disabled-fill-color: #AAA;\n",
              "      --disabled-bg-color: #DDD;\n",
              "  }\n",
              "\n",
              "  [theme=dark] .colab-df-quickchart {\n",
              "      --bg-color: #3B4455;\n",
              "      --fill-color: #D2E3FC;\n",
              "      --hover-bg-color: #434B5C;\n",
              "      --hover-fill-color: #FFFFFF;\n",
              "      --disabled-bg-color: #3B4455;\n",
              "      --disabled-fill-color: #666;\n",
              "  }\n",
              "\n",
              "  .colab-df-quickchart {\n",
              "    background-color: var(--bg-color);\n",
              "    border: none;\n",
              "    border-radius: 50%;\n",
              "    cursor: pointer;\n",
              "    display: none;\n",
              "    fill: var(--fill-color);\n",
              "    height: 32px;\n",
              "    padding: 0;\n",
              "    width: 32px;\n",
              "  }\n",
              "\n",
              "  .colab-df-quickchart:hover {\n",
              "    background-color: var(--hover-bg-color);\n",
              "    box-shadow: 0 1px 2px rgba(60, 64, 67, 0.3), 0 1px 3px 1px rgba(60, 64, 67, 0.15);\n",
              "    fill: var(--button-hover-fill-color);\n",
              "  }\n",
              "\n",
              "  .colab-df-quickchart-complete:disabled,\n",
              "  .colab-df-quickchart-complete:disabled:hover {\n",
              "    background-color: var(--disabled-bg-color);\n",
              "    fill: var(--disabled-fill-color);\n",
              "    box-shadow: none;\n",
              "  }\n",
              "\n",
              "  .colab-df-spinner {\n",
              "    border: 2px solid var(--fill-color);\n",
              "    border-color: transparent;\n",
              "    border-bottom-color: var(--fill-color);\n",
              "    animation:\n",
              "      spin 1s steps(1) infinite;\n",
              "  }\n",
              "\n",
              "  @keyframes spin {\n",
              "    0% {\n",
              "      border-color: transparent;\n",
              "      border-bottom-color: var(--fill-color);\n",
              "      border-left-color: var(--fill-color);\n",
              "    }\n",
              "    20% {\n",
              "      border-color: transparent;\n",
              "      border-left-color: var(--fill-color);\n",
              "      border-top-color: var(--fill-color);\n",
              "    }\n",
              "    30% {\n",
              "      border-color: transparent;\n",
              "      border-left-color: var(--fill-color);\n",
              "      border-top-color: var(--fill-color);\n",
              "      border-right-color: var(--fill-color);\n",
              "    }\n",
              "    40% {\n",
              "      border-color: transparent;\n",
              "      border-right-color: var(--fill-color);\n",
              "      border-top-color: var(--fill-color);\n",
              "    }\n",
              "    60% {\n",
              "      border-color: transparent;\n",
              "      border-right-color: var(--fill-color);\n",
              "    }\n",
              "    80% {\n",
              "      border-color: transparent;\n",
              "      border-right-color: var(--fill-color);\n",
              "      border-bottom-color: var(--fill-color);\n",
              "    }\n",
              "    90% {\n",
              "      border-color: transparent;\n",
              "      border-bottom-color: var(--fill-color);\n",
              "    }\n",
              "  }\n",
              "</style>\n",
              "\n",
              "  <script>\n",
              "    async function quickchart(key) {\n",
              "      const quickchartButtonEl =\n",
              "        document.querySelector('#' + key + ' button');\n",
              "      quickchartButtonEl.disabled = true;  // To prevent multiple clicks.\n",
              "      quickchartButtonEl.classList.add('colab-df-spinner');\n",
              "      try {\n",
              "        const charts = await google.colab.kernel.invokeFunction(\n",
              "            'suggestCharts', [key], {});\n",
              "      } catch (error) {\n",
              "        console.error('Error during call to suggestCharts:', error);\n",
              "      }\n",
              "      quickchartButtonEl.classList.remove('colab-df-spinner');\n",
              "      quickchartButtonEl.classList.add('colab-df-quickchart-complete');\n",
              "    }\n",
              "    (() => {\n",
              "      let quickchartButtonEl =\n",
              "        document.querySelector('#df-6255acf2-6016-430a-96ab-1786b05f799a button');\n",
              "      quickchartButtonEl.style.display =\n",
              "        google.colab.kernel.accessAllowed ? 'block' : 'none';\n",
              "    })();\n",
              "  </script>\n",
              "</div>\n",
              "    </div>\n",
              "  </div>\n"
            ]
          },
          "metadata": {},
          "execution_count": 26
        }
      ]
    },
    {
      "cell_type": "markdown",
      "source": [
        "The dataset contains the following columns:\n",
        "- credit_history: This column likely represents the credit history of the applicant, with values like 'Fair' and 'Good'.\n",
        "\n",
        "- employment_status: Indicates the employment status of the applicant, such as 'Unemployed' or 'Self-Employed'.\n",
        "\n",
        "- collateral: Describes the type of collateral, if any, offered by the applicant (e.g., 'Other', 'None', 'House', 'Land').\n",
        "\n",
        "- payment_history: Reflects the applicant's history of making payments, with entries like 'Excellent', 'Poor', 'Fair'.\n",
        "\n",
        "- type_of_credit_accounts: Shows the type of credit accounts the applicant has, such as 'Student', 'Auto', 'Personal', 'Mortgage'.\n",
        "\n",
        "- public_records_and_collections: Information about any public records or collections, like 'Other', 'Tax Lien', 'Bankruptcy', 'None'.\n",
        "\n",
        "- purpose_of_loan: The reason for the loan application, e.g., 'Home Improvement', 'Debt Consolidation', 'Car Financing'.\n",
        "\n",
        "- income: The applicant's income.\n",
        "\n",
        "- assets_value: The total value of the applicant's assets.\n",
        "\n",
        "- debt_to_income_ratio: A ratio indicating the applicant's debt relative to their income.\n",
        "\n",
        "- length_of_credit_history: The number of years the applicant has had a credit history.\n",
        "\n",
        "- number_of_credit_inquiries: The number of times the applicant's credit report has been pulled.\n",
        "\n",
        "- number_of_credit_accounts: The total number of credit accounts the applicant has.\n",
        "\n",
        "- number_of_credit_accounts_opened_last_12_months: The number of credit accounts opened in the last 12 months.\n",
        "\n",
        "- current_balance_of_credit_accounts: The current balance across all the applicant's credit accounts.\n",
        "\n",
        "- total_credit_limit: The total credit limit available to the applicant.\n",
        "\n",
        "- total_credit_utilization: A percentage indicating how much of the available credit the applicant is using.\n",
        "\n",
        "- loan_amount: The amount of loan the applicant is requesting.\n",
        "\n",
        "- saving_account_balance: The balance in the applicant's savings account.\n",
        "\n",
        "- approval_status: The status of the loan application, such as 'Rejected'."
      ],
      "metadata": {
        "id": "xL9GQt_D6GeM"
      }
    },
    {
      "cell_type": "markdown",
      "source": [
        "###Handling Missing Values\n",
        "Identify missing data in the dataset and decide on a strategy to handle them, like imputation (filling missing values with median, mean, or mode) or removal, depending on the context and the volume of missing data."
      ],
      "metadata": {
        "id": "SS6JoK6t_nWd"
      }
    },
    {
      "cell_type": "code",
      "source": [
        "# Check for missing values in each column\n",
        "missing_values = neuro_credit_data.isnull().sum()\n",
        "missing_values"
      ],
      "metadata": {
        "colab": {
          "base_uri": "https://localhost:8080/"
        },
        "id": "nlY-wJYU_U3L",
        "outputId": "a3dc677a-6a08-47f5-f069-c40b591dec57"
      },
      "execution_count": 27,
      "outputs": [
        {
          "output_type": "execute_result",
          "data": {
            "text/plain": [
              "credit_history                                     0\n",
              "employment_status                                  0\n",
              "collateral                                         0\n",
              "payment_history                                    0\n",
              "type_of_credit_accounts                            0\n",
              "public_records_and_collections                     0\n",
              "purpose_of_loan                                    0\n",
              "income                                             0\n",
              "assets_value                                       0\n",
              "debt_to_income_ratio                               0\n",
              "length_of_credit_history                           0\n",
              "number_of_credit_inquiries                         0\n",
              "number_of_credit_accounts                          0\n",
              "number_of_credit_accounts_opened_last_12_months    0\n",
              "current_balance_of_credit_accounts                 0\n",
              "total_credit_limit                                 0\n",
              "total_credit_utilization                           0\n",
              "loan_amount                                        0\n",
              "saving_account_balance                             0\n",
              "approval_status                                    0\n",
              "dtype: int64"
            ]
          },
          "metadata": {},
          "execution_count": 27
        }
      ]
    },
    {
      "cell_type": "markdown",
      "source": [
        "###Check dataset is class balanced"
      ],
      "metadata": {
        "id": "v53ZoFZfeUEP"
      }
    },
    {
      "cell_type": "code",
      "source": [
        "# Import the pyplot submodule from matplotlib and alias it as plt\n",
        "import matplotlib.pyplot as plt\n",
        "\n",
        "# Identify the target column\n",
        "target_column = 'approval_status'\n",
        "\n",
        "# Count the number of instances of each class\n",
        "class_distribution = neuro_credit_data[target_column].value_counts()\n",
        "\n",
        "# Display the class distribution\n",
        "print(\"\\nClass Distribution:\\n\", class_distribution)\n",
        "\n",
        "# Plot the class distribution\n",
        "plt.bar(class_distribution.index, class_distribution.values)\n",
        "plt.xlabel('Class')\n",
        "plt.ylabel('Number of Instances')\n",
        "plt.title('Class Distribution')\n",
        "plt.show()\n"
      ],
      "metadata": {
        "colab": {
          "base_uri": "https://localhost:8080/",
          "height": 559
        },
        "id": "JeS8QmBJcCxJ",
        "outputId": "68abe213-21a9-4704-a015-d178ea08d20a"
      },
      "execution_count": 28,
      "outputs": [
        {
          "output_type": "stream",
          "name": "stdout",
          "text": [
            "\n",
            "Class Distribution:\n",
            " Rejected    887\n",
            "Approved    113\n",
            "Name: approval_status, dtype: int64\n"
          ]
        },
        {
          "output_type": "display_data",
          "data": {
            "text/plain": [
              "<Figure size 640x480 with 1 Axes>"
            ],
            "image/png": "[encoded data removed]"
          },
          "metadata": {}
        }
      ]
    },
    {
      "cell_type": "markdown",
      "source": [
        "###Encoding Categorical Variables\n",
        "Convert categorical variables (like employment status, type of credit accounts, purpose of loan) into a numeric format that can be quickly processed by algorithms using techniques like one-hot encoding or label encoding."
      ],
      "metadata": {
        "id": "_XkFy32yFfFa"
      }
    },
    {
      "cell_type": "code",
      "source": [
        "# Identify and print all categorical columns from the dataset\n",
        "categorical_columns = neuro_credit_data.select_dtypes(include=['object']).columns\n",
        "categorical_columns.tolist()"
      ],
      "metadata": {
        "colab": {
          "base_uri": "https://localhost:8080/"
        },
        "id": "NIeE-oyVFvzv",
        "outputId": "6b32a003-527b-405b-dbb7-49ec4da8fb2d"
      },
      "execution_count": 29,
      "outputs": [
        {
          "output_type": "execute_result",
          "data": {
            "text/plain": [
              "['credit_history',\n",
              " 'employment_status',\n",
              " 'collateral',\n",
              " 'payment_history',\n",
              " 'type_of_credit_accounts',\n",
              " 'public_records_and_collections',\n",
              " 'purpose_of_loan',\n",
              " 'approval_status']"
            ]
          },
          "metadata": {},
          "execution_count": 29
        }
      ]
    },
    {
      "cell_type": "code",
      "source": [
        "# Define a list of categorical columns\n",
        "categorical_columns = ['credit_history',\n",
        " 'employment_status',\n",
        " 'collateral',\n",
        " 'payment_history',\n",
        " 'type_of_credit_accounts',\n",
        " 'public_records_and_collections',\n",
        " 'purpose_of_loan',\n",
        " 'approval_status']"
      ],
      "metadata": {
        "id": "BY6ngB75HjnM"
      },
      "execution_count": 30,
      "outputs": []
    },
    {
      "cell_type": "code",
      "source": [
        "# Apply one-hot encoding and update the DataFrame\n",
        "neuro_credit_data = pd.get_dummies(neuro_credit_data, columns=categorical_columns)"
      ],
      "metadata": {
        "id": "901oeJRhR9uU"
      },
      "execution_count": 31,
      "outputs": []
    },
    {
      "cell_type": "markdown",
      "source": [
        "##Choose a measure of sucess\n",
        "This study aims to evaluate the accuracy and completeness of loan approval forecasts, taking into account the presence of a class imbalance in the dataset. In the given context, if the goal is to predict the approval status of loans based on the variable 'approval_status', the measure of success should encompass more than just the accuracy of a predictive model in classifying loan applications as 'Approved' or 'Rejected'. Incorporating precision and recall into our evaluation criteria is crucial, as they offer a more nuanced comprehension of the model's performance within the framework of class imbalance. Furthermore, the Receiver Operating Characteristic Area Under Curve (ROC AUC) metric will be employed to evaluate the model's capacity to differentiate between the various classes, thereby offering a holistic perspective on its efficacy in predicting loan approvals."
      ],
      "metadata": {
        "id": "sVijimIRVCxO"
      }
    },
    {
      "cell_type": "markdown",
      "source": [
        "##Develop a model"
      ],
      "metadata": {
        "id": "4TgDparjhhMr"
      }
    },
    {
      "cell_type": "markdown",
      "source": [
        "###Prepare the Data"
      ],
      "metadata": {
        "id": "tJFEC8xciM9b"
      }
    },
    {
      "cell_type": "markdown",
      "source": [
        "####Vectorization"
      ],
      "metadata": {
        "id": "G90XKuvkka-U"
      }
    },
    {
      "cell_type": "code",
      "source": [
        "# Importing tensorflow for machine learning tasks\n",
        "import tensorflow as tf\n",
        "\n",
        "# Separating the features and the target variable\n",
        "target_columns = ['approval_status_Approved', 'approval_status_Rejected']\n",
        "features = neuro_credit_data.drop(target_columns, axis=1)\n",
        "target = neuro_credit_data[target_columns]\n",
        "\n",
        "# Convert all features to floating-point data type\n",
        "features = features.astype('float32')\n",
        "target = target.astype('float32')\n",
        "\n",
        "# Creating tensors from these values\n",
        "features_tensor = tf.convert_to_tensor(features)\n",
        "target_tensor = tf.convert_to_tensor(target)\n"
      ],
      "metadata": {
        "id": "asRxwqH1hjr9"
      },
      "execution_count": 32,
      "outputs": []
    },
    {
      "cell_type": "markdown",
      "source": [
        "Now features_tensor and target_tensor are ready to be used in a neural network"
      ],
      "metadata": {
        "id": "iwTH69cEm2W3"
      }
    },
    {
      "cell_type": "code",
      "source": [
        "neuro_credit_data.head().T"
      ],
      "metadata": {
        "colab": {
          "base_uri": "https://localhost:8080/",
          "height": 1000
        },
        "id": "SeIHI84hqMso",
        "outputId": "66a6b62d-8f85-4caa-f8aa-4ed5ed52a4a3"
      },
      "execution_count": 33,
      "outputs": [
        {
          "output_type": "execute_result",
          "data": {
            "text/plain": [
              "                                                     0      1      2      3  \\\n",
              "income                                           46319  15480  21614  25874   \n",
              "assets_value                                     14680  46713  13026  27908   \n",
              "debt_to_income_ratio                                41     82     68     34   \n",
              "length_of_credit_history                            24      0     99     55   \n",
              "number_of_credit_inquiries                           5      5      1      4   \n",
              "number_of_credit_accounts                            3      3      4      4   \n",
              "number_of_credit_accounts_opened_last_12_months      4      2      2      2   \n",
              "current_balance_of_credit_accounts                9591   8727  13997  15684   \n",
              "total_credit_limit                               17977   2399  10655  19176   \n",
              "total_credit_utilization                            61     60     90     54   \n",
              "loan_amount                                       4315   4263   2334   4010   \n",
              "saving_account_balance                           10207  16666  10413  16645   \n",
              "credit_history_Excellent                             0      0      0      0   \n",
              "credit_history_Fair                                  1      0      1      0   \n",
              "credit_history_Good                                  0      1      0      1   \n",
              "credit_history_Poor                                  0      0      0      0   \n",
              "employment_status_Employed                           0      0      0      0   \n",
              "employment_status_Self-Employed                      0      1      1      0   \n",
              "employment_status_Unemployed                         1      0      0      1   \n",
              "collateral_Car                                       0      0      0      0   \n",
              "collateral_House                                     0      0      1      0   \n",
              "collateral_Investment                                0      0      0      0   \n",
              "collateral_Land                                      0      0      0      0   \n",
              "collateral_None                                      0      1      0      0   \n",
              "collateral_Other                                     1      0      0      1   \n",
              "payment_history_Excellent                            1      0      0      0   \n",
              "payment_history_Fair                                 0      0      1      0   \n",
              "payment_history_Good                                 0      0      0      0   \n",
              "payment_history_Poor                                 0      1      0      1   \n",
              "type_of_credit_accounts_Auto                         0      1      0      0   \n",
              "type_of_credit_accounts_Mortgage                     0      0      0      1   \n",
              "type_of_credit_accounts_Other                        0      0      0      0   \n",
              "type_of_credit_accounts_Personal                     0      0      1      0   \n",
              "type_of_credit_accounts_Student                      1      0      0      0   \n",
              "public_records_and_collections_Bankruptcy            0      0      1      0   \n",
              "public_records_and_collections_Collection            0      0      0      0   \n",
              "public_records_and_collections_Judgement             0      0      0      0   \n",
              "public_records_and_collections_None                  0      0      0      0   \n",
              "public_records_and_collections_Other                 1      0      0      1   \n",
              "public_records_and_collections_Tax Lien              0      1      0      0   \n",
              "purpose_of_loan_Business                             0      0      0      0   \n",
              "purpose_of_loan_Car Financing                        0      0      0      1   \n",
              "purpose_of_loan_Debt Consolidation                   0      1      0      0   \n",
              "purpose_of_loan_Home Improvement                     1      0      1      0   \n",
              "purpose_of_loan_Other                                0      0      0      0   \n",
              "approval_status_Approved                             0      0      0      0   \n",
              "approval_status_Rejected                             1      1      1      1   \n",
              "\n",
              "                                                     4  \n",
              "income                                           20389  \n",
              "assets_value                                     44309  \n",
              "debt_to_income_ratio                                75  \n",
              "length_of_credit_history                            30  \n",
              "number_of_credit_inquiries                           4  \n",
              "number_of_credit_accounts                            0  \n",
              "number_of_credit_accounts_opened_last_12_months      5  \n",
              "current_balance_of_credit_accounts                1197  \n",
              "total_credit_limit                                4449  \n",
              "total_credit_utilization                           100  \n",
              "loan_amount                                       2977  \n",
              "saving_account_balance                           16366  \n",
              "credit_history_Excellent                             0  \n",
              "credit_history_Fair                                  1  \n",
              "credit_history_Good                                  0  \n",
              "credit_history_Poor                                  0  \n",
              "employment_status_Employed                           0  \n",
              "employment_status_Self-Employed                      0  \n",
              "employment_status_Unemployed                         1  \n",
              "collateral_Car                                       0  \n",
              "collateral_House                                     0  \n",
              "collateral_Investment                                0  \n",
              "collateral_Land                                      1  \n",
              "collateral_None                                      0  \n",
              "collateral_Other                                     0  \n",
              "payment_history_Excellent                            1  \n",
              "payment_history_Fair                                 0  \n",
              "payment_history_Good                                 0  \n",
              "payment_history_Poor                                 0  \n",
              "type_of_credit_accounts_Auto                         0  \n",
              "type_of_credit_accounts_Mortgage                     0  \n",
              "type_of_credit_accounts_Other                        0  \n",
              "type_of_credit_accounts_Personal                     1  \n",
              "type_of_credit_accounts_Student                      0  \n",
              "public_records_and_collections_Bankruptcy            0  \n",
              "public_records_and_collections_Collection            0  \n",
              "public_records_and_collections_Judgement             0  \n",
              "public_records_and_collections_None                  1  \n",
              "public_records_and_collections_Other                 0  \n",
              "public_records_and_collections_Tax Lien              0  \n",
              "purpose_of_loan_Business                             0  \n",
              "purpose_of_loan_Car Financing                        1  \n",
              "purpose_of_loan_Debt Consolidation                   0  \n",
              "purpose_of_loan_Home Improvement                     0  \n",
              "purpose_of_loan_Other                                0  \n",
              "approval_status_Approved                             0  \n",
              "approval_status_Rejected                             1  "
            ],
            "text/html": [
              "\n",
              "  <div id=\"df-6fb749f2-852c-4c22-9863-fcb855a7cdf3\" class=\"colab-df-container\">\n",
              "    <div>\n",
              "<style scoped>\n",
              "    .dataframe tbody tr th:only-of-type {\n",
              "        vertical-align: middle;\n",
              "    }\n",
              "\n",
              "    .dataframe tbody tr th {\n",
              "        vertical-align: top;\n",
              "    }\n",
              "\n",
              "    .dataframe thead th {\n",
              "        text-align: right;\n",
              "    }\n",
              "</style>\n",
              "<table border=\"1\" class=\"dataframe\">\n",
              "  <thead>\n",
              "    <tr style=\"text-align: right;\">\n",
              "      <th></th>\n",
              "      <th>0</th>\n",
              "      <th>1</th>\n",
              "      <th>2</th>\n",
              "      <th>3</th>\n",
              "      <th>4</th>\n",
              "    </tr>\n",
              "  </thead>\n",
              "  <tbody>\n",
              "    <tr>\n",
              "      <th>income</th>\n",
              "      <td>46319</td>\n",
              "      <td>15480</td>\n",
              "      <td>21614</td>\n",
              "      <td>25874</td>\n",
              "      <td>20389</td>\n",
              "    </tr>\n",
              "    <tr>\n",
              "      <th>assets_value</th>\n",
              "      <td>14680</td>\n",
              "      <td>46713</td>\n",
              "      <td>13026</td>\n",
              "      <td>27908</td>\n",
              "      <td>44309</td>\n",
              "    </tr>\n",
              "    <tr>\n",
              "      <th>debt_to_income_ratio</th>\n",
              "      <td>41</td>\n",
              "      <td>82</td>\n",
              "      <td>68</td>\n",
              "      <td>34</td>\n",
              "      <td>75</td>\n",
              "    </tr>\n",
              "    <tr>\n",
              "      <th>length_of_credit_history</th>\n",
              "      <td>24</td>\n",
              "      <td>0</td>\n",
              "      <td>99</td>\n",
              "      <td>55</td>\n",
              "      <td>30</td>\n",
              "    </tr>\n",
              "    <tr>\n",
              "      <th>number_of_credit_inquiries</th>\n",
              "      <td>5</td>\n",
              "      <td>5</td>\n",
              "      <td>1</td>\n",
              "      <td>4</td>\n",
              "      <td>4</td>\n",
              "    </tr>\n",
              "    <tr>\n",
              "      <th>number_of_credit_accounts</th>\n",
              "      <td>3</td>\n",
              "      <td>3</td>\n",
              "      <td>4</td>\n",
              "      <td>4</td>\n",
              "      <td>0</td>\n",
              "    </tr>\n",
              "    <tr>\n",
              "      <th>number_of_credit_accounts_opened_last_12_months</th>\n",
              "      <td>4</td>\n",
              "      <td>2</td>\n",
              "      <td>2</td>\n",
              "      <td>2</td>\n",
              "      <td>5</td>\n",
              "    </tr>\n",
              "    <tr>\n",
              "      <th>current_balance_of_credit_accounts</th>\n",
              "      <td>9591</td>\n",
              "      <td>8727</td>\n",
              "      <td>13997</td>\n",
              "      <td>15684</td>\n",
              "      <td>1197</td>\n",
              "    </tr>\n",
              "    <tr>\n",
              "      <th>total_credit_limit</th>\n",
              "      <td>17977</td>\n",
              "      <td>2399</td>\n",
              "      <td>10655</td>\n",
              "      <td>19176</td>\n",
              "      <td>4449</td>\n",
              "    </tr>\n",
              "    <tr>\n",
              "      <th>total_credit_utilization</th>\n",
              "      <td>61</td>\n",
              "      <td>60</td>\n",
              "      <td>90</td>\n",
              "      <td>54</td>\n",
              "      <td>100</td>\n",
              "    </tr>\n",
              "    <tr>\n",
              "      <th>loan_amount</th>\n",
              "      <td>4315</td>\n",
              "      <td>4263</td>\n",
              "      <td>2334</td>\n",
              "      <td>4010</td>\n",
              "      <td>2977</td>\n",
              "    </tr>\n",
              "    <tr>\n",
              "      <th>saving_account_balance</th>\n",
              "      <td>10207</td>\n",
              "      <td>16666</td>\n",
              "      <td>10413</td>\n",
              "      <td>16645</td>\n",
              "      <td>16366</td>\n",
              "    </tr>\n",
              "    <tr>\n",
              "      <th>credit_history_Excellent</th>\n",
              "      <td>0</td>\n",
              "      <td>0</td>\n",
              "      <td>0</td>\n",
              "      <td>0</td>\n",
              "      <td>0</td>\n",
              "    </tr>\n",
              "    <tr>\n",
              "      <th>credit_history_Fair</th>\n",
              "      <td>1</td>\n",
              "      <td>0</td>\n",
              "      <td>1</td>\n",
              "      <td>0</td>\n",
              "      <td>1</td>\n",
              "    </tr>\n",
              "    <tr>\n",
              "      <th>credit_history_Good</th>\n",
              "      <td>0</td>\n",
              "      <td>1</td>\n",
              "      <td>0</td>\n",
              "      <td>1</td>\n",
              "      <td>0</td>\n",
              "    </tr>\n",
              "    <tr>\n",
              "      <th>credit_history_Poor</th>\n",
              "      <td>0</td>\n",
              "      <td>0</td>\n",
              "      <td>0</td>\n",
              "      <td>0</td>\n",
              "      <td>0</td>\n",
              "    </tr>\n",
              "    <tr>\n",
              "      <th>employment_status_Employed</th>\n",
              "      <td>0</td>\n",
              "      <td>0</td>\n",
              "      <td>0</td>\n",
              "      <td>0</td>\n",
              "      <td>0</td>\n",
              "    </tr>\n",
              "    <tr>\n",
              "      <th>employment_status_Self-Employed</th>\n",
              "      <td>0</td>\n",
              "      <td>1</td>\n",
              "      <td>1</td>\n",
              "      <td>0</td>\n",
              "      <td>0</td>\n",
              "    </tr>\n",
              "    <tr>\n",
              "      <th>employment_status_Unemployed</th>\n",
              "      <td>1</td>\n",
              "      <td>0</td>\n",
              "      <td>0</td>\n",
              "      <td>1</td>\n",
              "      <td>1</td>\n",
              "    </tr>\n",
              "    <tr>\n",
              "      <th>collateral_Car</th>\n",
              "      <td>0</td>\n",
              "      <td>0</td>\n",
              "      <td>0</td>\n",
              "      <td>0</td>\n",
              "      <td>0</td>\n",
              "    </tr>\n",
              "    <tr>\n",
              "      <th>collateral_House</th>\n",
              "      <td>0</td>\n",
              "      <td>0</td>\n",
              "      <td>1</td>\n",
              "      <td>0</td>\n",
              "      <td>0</td>\n",
              "    </tr>\n",
              "    <tr>\n",
              "      <th>collateral_Investment</th>\n",
              "      <td>0</td>\n",
              "      <td>0</td>\n",
              "      <td>0</td>\n",
              "      <td>0</td>\n",
              "      <td>0</td>\n",
              "    </tr>\n",
              "    <tr>\n",
              "      <th>collateral_Land</th>\n",
              "      <td>0</td>\n",
              "      <td>0</td>\n",
              "      <td>0</td>\n",
              "      <td>0</td>\n",
              "      <td>1</td>\n",
              "    </tr>\n",
              "    <tr>\n",
              "      <th>collateral_None</th>\n",
              "      <td>0</td>\n",
              "      <td>1</td>\n",
              "      <td>0</td>\n",
              "      <td>0</td>\n",
              "      <td>0</td>\n",
              "    </tr>\n",
              "    <tr>\n",
              "      <th>collateral_Other</th>\n",
              "      <td>1</td>\n",
              "      <td>0</td>\n",
              "      <td>0</td>\n",
              "      <td>1</td>\n",
              "      <td>0</td>\n",
              "    </tr>\n",
              "    <tr>\n",
              "      <th>payment_history_Excellent</th>\n",
              "      <td>1</td>\n",
              "      <td>0</td>\n",
              "      <td>0</td>\n",
              "      <td>0</td>\n",
              "      <td>1</td>\n",
              "    </tr>\n",
              "    <tr>\n",
              "      <th>payment_history_Fair</th>\n",
              "      <td>0</td>\n",
              "      <td>0</td>\n",
              "      <td>1</td>\n",
              "      <td>0</td>\n",
              "      <td>0</td>\n",
              "    </tr>\n",
              "    <tr>\n",
              "      <th>payment_history_Good</th>\n",
              "      <td>0</td>\n",
              "      <td>0</td>\n",
              "      <td>0</td>\n",
              "      <td>0</td>\n",
              "      <td>0</td>\n",
              "    </tr>\n",
              "    <tr>\n",
              "      <th>payment_history_Poor</th>\n",
              "      <td>0</td>\n",
              "      <td>1</td>\n",
              "      <td>0</td>\n",
              "      <td>1</td>\n",
              "      <td>0</td>\n",
              "    </tr>\n",
              "    <tr>\n",
              "      <th>type_of_credit_accounts_Auto</th>\n",
              "      <td>0</td>\n",
              "      <td>1</td>\n",
              "      <td>0</td>\n",
              "      <td>0</td>\n",
              "      <td>0</td>\n",
              "    </tr>\n",
              "    <tr>\n",
              "      <th>type_of_credit_accounts_Mortgage</th>\n",
              "      <td>0</td>\n",
              "      <td>0</td>\n",
              "      <td>0</td>\n",
              "      <td>1</td>\n",
              "      <td>0</td>\n",
              "    </tr>\n",
              "    <tr>\n",
              "      <th>type_of_credit_accounts_Other</th>\n",
              "      <td>0</td>\n",
              "      <td>0</td>\n",
              "      <td>0</td>\n",
              "      <td>0</td>\n",
              "      <td>0</td>\n",
              "    </tr>\n",
              "    <tr>\n",
              "      <th>type_of_credit_accounts_Personal</th>\n",
              "      <td>0</td>\n",
              "      <td>0</td>\n",
              "      <td>1</td>\n",
              "      <td>0</td>\n",
              "      <td>1</td>\n",
              "    </tr>\n",
              "    <tr>\n",
              "      <th>type_of_credit_accounts_Student</th>\n",
              "      <td>1</td>\n",
              "      <td>0</td>\n",
              "      <td>0</td>\n",
              "      <td>0</td>\n",
              "      <td>0</td>\n",
              "    </tr>\n",
              "    <tr>\n",
              "      <th>public_records_and_collections_Bankruptcy</th>\n",
              "      <td>0</td>\n",
              "      <td>0</td>\n",
              "      <td>1</td>\n",
              "      <td>0</td>\n",
              "      <td>0</td>\n",
              "    </tr>\n",
              "    <tr>\n",
              "      <th>public_records_and_collections_Collection</th>\n",
              "      <td>0</td>\n",
              "      <td>0</td>\n",
              "      <td>0</td>\n",
              "      <td>0</td>\n",
              "      <td>0</td>\n",
              "    </tr>\n",
              "    <tr>\n",
              "      <th>public_records_and_collections_Judgement</th>\n",
              "      <td>0</td>\n",
              "      <td>0</td>\n",
              "      <td>0</td>\n",
              "      <td>0</td>\n",
              "      <td>0</td>\n",
              "    </tr>\n",
              "    <tr>\n",
              "      <th>public_records_and_collections_None</th>\n",
              "      <td>0</td>\n",
              "      <td>0</td>\n",
              "      <td>0</td>\n",
              "      <td>0</td>\n",
              "      <td>1</td>\n",
              "    </tr>\n",
              "    <tr>\n",
              "      <th>public_records_and_collections_Other</th>\n",
              "      <td>1</td>\n",
              "      <td>0</td>\n",
              "      <td>0</td>\n",
              "      <td>1</td>\n",
              "      <td>0</td>\n",
              "    </tr>\n",
              "    <tr>\n",
              "      <th>public_records_and_collections_Tax Lien</th>\n",
              "      <td>0</td>\n",
              "      <td>1</td>\n",
              "      <td>0</td>\n",
              "      <td>0</td>\n",
              "      <td>0</td>\n",
              "    </tr>\n",
              "    <tr>\n",
              "      <th>purpose_of_loan_Business</th>\n",
              "      <td>0</td>\n",
              "      <td>0</td>\n",
              "      <td>0</td>\n",
              "      <td>0</td>\n",
              "      <td>0</td>\n",
              "    </tr>\n",
              "    <tr>\n",
              "      <th>purpose_of_loan_Car Financing</th>\n",
              "      <td>0</td>\n",
              "      <td>0</td>\n",
              "      <td>0</td>\n",
              "      <td>1</td>\n",
              "      <td>1</td>\n",
              "    </tr>\n",
              "    <tr>\n",
              "      <th>purpose_of_loan_Debt Consolidation</th>\n",
              "      <td>0</td>\n",
              "      <td>1</td>\n",
              "      <td>0</td>\n",
              "      <td>0</td>\n",
              "      <td>0</td>\n",
              "    </tr>\n",
              "    <tr>\n",
              "      <th>purpose_of_loan_Home Improvement</th>\n",
              "      <td>1</td>\n",
              "      <td>0</td>\n",
              "      <td>1</td>\n",
              "      <td>0</td>\n",
              "      <td>0</td>\n",
              "    </tr>\n",
              "    <tr>\n",
              "      <th>purpose_of_loan_Other</th>\n",
              "      <td>0</td>\n",
              "      <td>0</td>\n",
              "      <td>0</td>\n",
              "      <td>0</td>\n",
              "      <td>0</td>\n",
              "    </tr>\n",
              "    <tr>\n",
              "      <th>approval_status_Approved</th>\n",
              "      <td>0</td>\n",
              "      <td>0</td>\n",
              "      <td>0</td>\n",
              "      <td>0</td>\n",
              "      <td>0</td>\n",
              "    </tr>\n",
              "    <tr>\n",
              "      <th>approval_status_Rejected</th>\n",
              "      <td>1</td>\n",
              "      <td>1</td>\n",
              "      <td>1</td>\n",
              "      <td>1</td>\n",
              "      <td>1</td>\n",
              "    </tr>\n",
              "  </tbody>\n",
              "</table>\n",
              "</div>\n",
              "    <div class=\"colab-df-buttons\">\n",
              "\n",
              "  <div class=\"colab-df-container\">\n",
              "    <button class=\"colab-df-convert\" onclick=\"convertToInteractive('df-6fb749f2-852c-4c22-9863-fcb855a7cdf3')\"\n",
              "            title=\"Convert this dataframe to an interactive table.\"\n",
              "            style=\"display:none;\">\n",
              "\n",
              "  <svg xmlns=\"http://www.w3.org/2000/svg\" height=\"24px\" viewBox=\"0 -960 960 960\">\n",
              "    <path d=\"M120-120v-720h720v720H120Zm60-500h600v-160H180v160Zm220 220h160v-160H400v160Zm0 220h160v-160H400v160ZM180-400h160v-160H180v160Zm440 0h160v-160H620v160ZM180-180h160v-160H180v160Zm440 0h160v-160H620v160Z\"/>\n",
              "  </svg>\n",
              "    </button>\n",
              "\n",
              "  <style>\n",
              "    .colab-df-container {\n",
              "      display:flex;\n",
              "      gap: 12px;\n",
              "    }\n",
              "\n",
              "    .colab-df-convert {\n",
              "      background-color: #E8F0FE;\n",
              "      border: none;\n",
              "      border-radius: 50%;\n",
              "      cursor: pointer;\n",
              "      display: none;\n",
              "      fill: #1967D2;\n",
              "      height: 32px;\n",
              "      padding: 0 0 0 0;\n",
              "      width: 32px;\n",
              "    }\n",
              "\n",
              "    .colab-df-convert:hover {\n",
              "      background-color: #E2EBFA;\n",
              "      box-shadow: 0px 1px 2px rgba(60, 64, 67, 0.3), 0px 1px 3px 1px rgba(60, 64, 67, 0.15);\n",
              "      fill: #174EA6;\n",
              "    }\n",
              "\n",
              "    .colab-df-buttons div {\n",
              "      margin-bottom: 4px;\n",
              "    }\n",
              "\n",
              "    [theme=dark] .colab-df-convert {\n",
              "      background-color: #3B4455;\n",
              "      fill: #D2E3FC;\n",
              "    }\n",
              "\n",
              "    [theme=dark] .colab-df-convert:hover {\n",
              "      background-color: #434B5C;\n",
              "      box-shadow: 0px 1px 3px 1px rgba(0, 0, 0, 0.15);\n",
              "      filter: drop-shadow(0px 1px 2px rgba(0, 0, 0, 0.3));\n",
              "      fill: #FFFFFF;\n",
              "    }\n",
              "  </style>\n",
              "\n",
              "    <script>\n",
              "      const buttonEl =\n",
              "        document.querySelector('#df-6fb749f2-852c-4c22-9863-fcb855a7cdf3 button.colab-df-convert');\n",
              "      buttonEl.style.display =\n",
              "        google.colab.kernel.accessAllowed ? 'block' : 'none';\n",
              "\n",
              "      async function convertToInteractive(key) {\n",
              "        const element = document.querySelector('#df-6fb749f2-852c-4c22-9863-fcb855a7cdf3');\n",
              "        const dataTable =\n",
              "          await google.colab.kernel.invokeFunction('convertToInteractive',\n",
              "                                                    [key], {});\n",
              "        if (!dataTable) return;\n",
              "\n",
              "        const docLinkHtml = 'Like what you see? Visit the ' +\n",
              "          '<a target=\"_blank\" href=https://colab.research.google.com/notebooks/data_table.ipynb>data table notebook</a>'\n",
              "          + ' to learn more about interactive tables.';\n",
              "        element.innerHTML = '';\n",
              "        dataTable['output_type'] = 'display_data';\n",
              "        await google.colab.output.renderOutput(dataTable, element);\n",
              "        const docLink = document.createElement('div');\n",
              "        docLink.innerHTML = docLinkHtml;\n",
              "        element.appendChild(docLink);\n",
              "      }\n",
              "    </script>\n",
              "  </div>\n",
              "\n",
              "\n",
              "<div id=\"df-ae3cefce-97c5-4396-9921-dbdf96f84c62\">\n",
              "  <button class=\"colab-df-quickchart\" onclick=\"quickchart('df-ae3cefce-97c5-4396-9921-dbdf96f84c62')\"\n",
              "            title=\"Suggest charts\"\n",
              "            style=\"display:none;\">\n",
              "\n",
              "<svg xmlns=\"http://www.w3.org/2000/svg\" height=\"24px\"viewBox=\"0 0 24 24\"\n",
              "     width=\"24px\">\n",
              "    <g>\n",
              "        <path d=\"M19 3H5c-1.1 0-2 .9-2 2v14c0 1.1.9 2 2 2h14c1.1 0 2-.9 2-2V5c0-1.1-.9-2-2-2zM9 17H7v-7h2v7zm4 0h-2V7h2v10zm4 0h-2v-4h2v4z\"/>\n",
              "    </g>\n",
              "</svg>\n",
              "  </button>\n",
              "\n",
              "<style>\n",
              "  .colab-df-quickchart {\n",
              "      --bg-color: #E8F0FE;\n",
              "      --fill-color: #1967D2;\n",
              "      --hover-bg-color: #E2EBFA;\n",
              "      --hover-fill-color: #174EA6;\n",
              "      --disabled-fill-color: #AAA;\n",
              "      --disabled-bg-color: #DDD;\n",
              "  }\n",
              "\n",
              "  [theme=dark] .colab-df-quickchart {\n",
              "      --bg-color: #3B4455;\n",
              "      --fill-color: #D2E3FC;\n",
              "      --hover-bg-color: #434B5C;\n",
              "      --hover-fill-color: #FFFFFF;\n",
              "      --disabled-bg-color: #3B4455;\n",
              "      --disabled-fill-color: #666;\n",
              "  }\n",
              "\n",
              "  .colab-df-quickchart {\n",
              "    background-color: var(--bg-color);\n",
              "    border: none;\n",
              "    border-radius: 50%;\n",
              "    cursor: pointer;\n",
              "    display: none;\n",
              "    fill: var(--fill-color);\n",
              "    height: 32px;\n",
              "    padding: 0;\n",
              "    width: 32px;\n",
              "  }\n",
              "\n",
              "  .colab-df-quickchart:hover {\n",
              "    background-color: var(--hover-bg-color);\n",
              "    box-shadow: 0 1px 2px rgba(60, 64, 67, 0.3), 0 1px 3px 1px rgba(60, 64, 67, 0.15);\n",
              "    fill: var(--button-hover-fill-color);\n",
              "  }\n",
              "\n",
              "  .colab-df-quickchart-complete:disabled,\n",
              "  .colab-df-quickchart-complete:disabled:hover {\n",
              "    background-color: var(--disabled-bg-color);\n",
              "    fill: var(--disabled-fill-color);\n",
              "    box-shadow: none;\n",
              "  }\n",
              "\n",
              "  .colab-df-spinner {\n",
              "    border: 2px solid var(--fill-color);\n",
              "    border-color: transparent;\n",
              "    border-bottom-color: var(--fill-color);\n",
              "    animation:\n",
              "      spin 1s steps(1) infinite;\n",
              "  }\n",
              "\n",
              "  @keyframes spin {\n",
              "    0% {\n",
              "      border-color: transparent;\n",
              "      border-bottom-color: var(--fill-color);\n",
              "      border-left-color: var(--fill-color);\n",
              "    }\n",
              "    20% {\n",
              "      border-color: transparent;\n",
              "      border-left-color: var(--fill-color);\n",
              "      border-top-color: var(--fill-color);\n",
              "    }\n",
              "    30% {\n",
              "      border-color: transparent;\n",
              "      border-left-color: var(--fill-color);\n",
              "      border-top-color: var(--fill-color);\n",
              "      border-right-color: var(--fill-color);\n",
              "    }\n",
              "    40% {\n",
              "      border-color: transparent;\n",
              "      border-right-color: var(--fill-color);\n",
              "      border-top-color: var(--fill-color);\n",
              "    }\n",
              "    60% {\n",
              "      border-color: transparent;\n",
              "      border-right-color: var(--fill-color);\n",
              "    }\n",
              "    80% {\n",
              "      border-color: transparent;\n",
              "      border-right-color: var(--fill-color);\n",
              "      border-bottom-color: var(--fill-color);\n",
              "    }\n",
              "    90% {\n",
              "      border-color: transparent;\n",
              "      border-bottom-color: var(--fill-color);\n",
              "    }\n",
              "  }\n",
              "</style>\n",
              "\n",
              "  <script>\n",
              "    async function quickchart(key) {\n",
              "      const quickchartButtonEl =\n",
              "        document.querySelector('#' + key + ' button');\n",
              "      quickchartButtonEl.disabled = true;  // To prevent multiple clicks.\n",
              "      quickchartButtonEl.classList.add('colab-df-spinner');\n",
              "      try {\n",
              "        const charts = await google.colab.kernel.invokeFunction(\n",
              "            'suggestCharts', [key], {});\n",
              "      } catch (error) {\n",
              "        console.error('Error during call to suggestCharts:', error);\n",
              "      }\n",
              "      quickchartButtonEl.classList.remove('colab-df-spinner');\n",
              "      quickchartButtonEl.classList.add('colab-df-quickchart-complete');\n",
              "    }\n",
              "    (() => {\n",
              "      let quickchartButtonEl =\n",
              "        document.querySelector('#df-ae3cefce-97c5-4396-9921-dbdf96f84c62 button');\n",
              "      quickchartButtonEl.style.display =\n",
              "        google.colab.kernel.accessAllowed ? 'block' : 'none';\n",
              "    })();\n",
              "  </script>\n",
              "</div>\n",
              "    </div>\n",
              "  </div>\n"
            ]
          },
          "metadata": {},
          "execution_count": 33
        }
      ]
    },
    {
      "cell_type": "markdown",
      "source": [
        "###Split the data\n",
        "The dataset will be split into training, validation, and test sets. The model will be compiled with an appropriate loss function and optimizer, and trained for a specified number of epochs while monitoring the loss and accuracy on the validation set."
      ],
      "metadata": {
        "id": "pck2mGy3t3uz"
      }
    },
    {
      "cell_type": "markdown",
      "source": [
        "Because the dataset is imbalanced, we use the Iterative Stratification method this is a more advanced technique designed specifically for multi-label data. It aims to maintain label distributions in each split that are as close as possible to the original distribution."
      ],
      "metadata": {
        "id": "tJeSb9240GGJ"
      }
    },
    {
      "cell_type": "code",
      "source": [
        "# Install the scikit-multilearn and iterative-stratification packages for multi-label stratification\n",
        "!pip install scikit-multilearn iterative-stratification"
      ],
      "metadata": {
        "colab": {
          "base_uri": "https://localhost:8080/"
        },
        "id": "2jLelhPI1Q_y",
        "outputId": "df02e65d-bbc6-4b3c-a41b-c37297547fc7"
      },
      "execution_count": 34,
      "outputs": [
        {
          "output_type": "stream",
          "name": "stdout",
          "text": [
            "Requirement already satisfied: scikit-multilearn in /usr/local/lib/python3.10/dist-packages (0.2.0)\n",
            "Requirement already satisfied: iterative-stratification in /usr/local/lib/python3.10/dist-packages (0.1.7)\n",
            "Requirement already satisfied: numpy in /usr/local/lib/python3.10/dist-packages (from iterative-stratification) (1.23.5)\n",
            "Requirement already satisfied: scipy in /usr/local/lib/python3.10/dist-packages (from iterative-stratification) (1.11.3)\n",
            "Requirement already satisfied: scikit-learn in /usr/local/lib/python3.10/dist-packages (from iterative-stratification) (1.2.2)\n",
            "Requirement already satisfied: joblib>=1.1.1 in /usr/local/lib/python3.10/dist-packages (from scikit-learn->iterative-stratification) (1.3.2)\n",
            "Requirement already satisfied: threadpoolctl>=2.0.0 in /usr/local/lib/python3.10/dist-packages (from scikit-learn->iterative-stratification) (3.2.0)\n"
          ]
        }
      ]
    },
    {
      "cell_type": "code",
      "source": [
        "# Importing IterativeStratification for multi-label stratified split\n",
        "from skmultilearn.model_selection import IterativeStratification\n",
        "\n",
        "# Importing train_test_split for dividing dataset into train and test sets\n",
        "from sklearn.model_selection import train_test_split\n",
        "\n",
        "# Defining the target variables\n",
        "target_columns = ['approval_status_Approved', 'approval_status_Rejected']\n",
        "\n",
        "# Extracting the features and target columns\n",
        "features = neuro_credit_data.drop(columns=target_columns)\n",
        "targets = neuro_credit_data[target_columns]\n",
        "\n",
        "# Create the iterative stratifier\n",
        "stratifier = IterativeStratification(n_splits=2, order=1, sample_distribution_per_fold=[0.7, 0.3])\n",
        "\n",
        "# Get indices for each split\n",
        "train_indices, test_indices = next(stratifier.split(features, targets))\n",
        "\n",
        "# Splitting the dataset into training and testing sets\n",
        "train_features, test_features = features.iloc[train_indices], features.iloc[test_indices]\n",
        "train_targets, test_targets = targets.iloc[train_indices], targets.iloc[test_indices]\n",
        "\n",
        "# Checking the size of the splits\n",
        "train_size = train_features.shape[0]\n",
        "test_size = test_features.shape[0]\n",
        "total_size = neuro_credit_data.shape[0]\n",
        "\n",
        "train_size, test_size, total_size\n"
      ],
      "metadata": {
        "colab": {
          "base_uri": "https://localhost:8080/"
        },
        "id": "g8Uy9A79DAav",
        "outputId": "4798ab71-b9b9-4acd-b4c1-25f84959830d"
      },
      "execution_count": 35,
      "outputs": [
        {
          "output_type": "execute_result",
          "data": {
            "text/plain": [
              "(300, 700, 1000)"
            ]
          },
          "metadata": {},
          "execution_count": 35
        }
      ]
    },
    {
      "cell_type": "code",
      "source": [
        "# Check the number of features of the dataset\n",
        "\n",
        "# Number of features\n",
        "# the last two column is the target\n",
        "num_features = neuro_credit_data.shape[1] - 2\n",
        "\n",
        "print(f\"Number of features in the dataset: {num_features}\")\n"
      ],
      "metadata": {
        "colab": {
          "base_uri": "https://localhost:8080/"
        },
        "id": "C8SGsVvSpiXb",
        "outputId": "3654283f-4719-4077-846e-b1ac013f4747"
      },
      "execution_count": 36,
      "outputs": [
        {
          "output_type": "stream",
          "name": "stdout",
          "text": [
            "Number of features in the dataset: 45\n"
          ]
        }
      ]
    },
    {
      "cell_type": "markdown",
      "source": [
        "## Training Process\n",
        "The model will be compiled with an appropriate loss function and optimizer, and trained for a specified number of epochs while monitoring the loss and accuracy on the validation set."
      ],
      "metadata": {
        "id": "xJ1JQ9uwFcFT"
      }
    },
    {
      "cell_type": "code",
      "source": [
        "# Imports the Sequential model and Dense, Dropout layers from TensorFlow's Keras library.\n",
        "from tensorflow.keras.models import Sequential\n",
        "from tensorflow.keras.layers import Dense, Dropout\n",
        "\n",
        "# Function definition: create a model with a specified number of input features\n",
        "def create_model(num_features):\n",
        "\n",
        "    # Start defining a sequential model\n",
        "    model = Sequential([\n",
        "        # Add a dense layer with 64 neurons, ReLU activation, and input shape as num_features\n",
        "        Dense(64, activation='relu', input_shape=(num_features,)),\n",
        "\n",
        "        # Add a dropout layer with 50% dropout rate to reduce overfitting\n",
        "        Dropout(0.5),\n",
        "\n",
        "        # Add another dense layer with 64 neurons and ReLU activation\n",
        "        Dense(64, activation='relu'),\n",
        "\n",
        "        # Add another dropout layer with 50% dropout rate for regularization\n",
        "        Dropout(0.5),\n",
        "\n",
        "        # Add the output layer with 1 neuron and sigmoid activation for binary classification\n",
        "        Dense(1, activation='sigmoid')\n",
        "    ])\n",
        "\n",
        "    # Compile the model with adam optimizer, binary_crossentropy loss function, and accuracy as the metric\n",
        "    model.compile(optimizer='adam',\n",
        "                  loss='binary_crossentropy',\n",
        "                  metrics=['accuracy'])\n",
        "\n",
        "    # Return the compiled model\n",
        "    return model\n",
        "\n",
        "# Convert one-hot encoding to binary labels (for the first of the last two columns represents class 1)\n",
        "train_targets_binary = train_targets.iloc[:, -2:].idxmax(axis=1)\n",
        "train_targets_binary = train_targets_binary.map({train_targets.columns[-2]: 1, train_targets.columns[-1]: 0})\n",
        "\n",
        "# Assuming num_features is defined and corresponds to the number of features in your dataset\n",
        "model = create_model(num_features)\n",
        "\n",
        "# Now train your model\n",
        "batch_size = 32\n",
        "epochs = 10\n",
        "\n",
        "# Trains the model on the training data\n",
        "history = model.fit(\n",
        "\n",
        "    # The input features for training\n",
        "    train_features,\n",
        "\n",
        "    # The binary target labels for training\n",
        "    train_targets_binary,\n",
        "\n",
        "    # The number of samples per gradient update\n",
        "    batch_size=batch_size,\n",
        "\n",
        "    # The number of times to iterate over the entire training dataset\n",
        "    epochs=epochs,\n",
        "\n",
        "    # The proportion of the training data to be used as validation data\n",
        "    validation_split=0.2\n",
        ")\n"
      ],
      "metadata": {
        "colab": {
          "base_uri": "https://localhost:8080/"
        },
        "id": "lAQ5TFHrkcXj",
        "outputId": "d2d1e764-0c85-4d14-ca08-f9b987107ffd"
      },
      "execution_count": 37,
      "outputs": [
        {
          "output_type": "stream",
          "name": "stdout",
          "text": [
            "Epoch 1/10\n",
            "8/8 [==============================] - 1s 74ms/step - loss: 6252.0459 - accuracy: 0.3167 - val_loss: 758.6762 - val_accuracy: 0.5333\n",
            "Epoch 2/10\n",
            "8/8 [==============================] - 0s 7ms/step - loss: 2084.7900 - accuracy: 0.6208 - val_loss: 683.9289 - val_accuracy: 0.8833\n",
            "Epoch 3/10\n",
            "8/8 [==============================] - 0s 10ms/step - loss: 1529.5824 - accuracy: 0.7333 - val_loss: 1050.5963 - val_accuracy: 0.8833\n",
            "Epoch 4/10\n",
            "8/8 [==============================] - 0s 12ms/step - loss: 1105.1907 - accuracy: 0.7958 - val_loss: 1200.0441 - val_accuracy: 0.8833\n",
            "Epoch 5/10\n",
            "8/8 [==============================] - 0s 12ms/step - loss: 1303.6986 - accuracy: 0.8542 - val_loss: 1152.0441 - val_accuracy: 0.8833\n",
            "Epoch 6/10\n",
            "8/8 [==============================] - 0s 9ms/step - loss: 1381.8523 - accuracy: 0.8250 - val_loss: 1004.8701 - val_accuracy: 0.8833\n",
            "Epoch 7/10\n",
            "8/8 [==============================] - 0s 12ms/step - loss: 1051.3450 - accuracy: 0.8458 - val_loss: 860.3701 - val_accuracy: 0.8833\n",
            "Epoch 8/10\n",
            "8/8 [==============================] - 0s 11ms/step - loss: 1173.6554 - accuracy: 0.7917 - val_loss: 726.8831 - val_accuracy: 0.8833\n",
            "Epoch 9/10\n",
            "8/8 [==============================] - 0s 8ms/step - loss: 1137.9261 - accuracy: 0.7542 - val_loss: 641.0534 - val_accuracy: 0.8833\n",
            "Epoch 10/10\n",
            "8/8 [==============================] - 0s 9ms/step - loss: 1065.1067 - accuracy: 0.7750 - val_loss: 589.9238 - val_accuracy: 0.8833\n"
          ]
        }
      ]
    },
    {
      "cell_type": "markdown",
      "source": [
        "###Detailed Observations"
      ],
      "metadata": {
        "id": "EbSb1uREwwd6"
      }
    },
    {
      "cell_type": "markdown",
      "source": [
        "- Epoch 1:\n",
        "Training Loss and Accuracy: The training starts with a high loss (2881.0005) and moderate accuracy (59.17%). This is expected as the model is learning from the data.\n",
        "Validation Loss and Accuracy: The validation loss is significantly lower than the training loss (778.7426), but the accuracy is unexpectedly high (88.33%). This could indicate that the model might predict a majority class in an imbalanced dataset.\n",
        "- Epoch 2:\n",
        "Increased Training Accuracy: There is a notable improvement in training accuracy (72.50%), indicating that the model is learning.\n",
        "Increased Validation Loss: The validation loss has increased (1240.0382), which is unusual as we typically expect the validation loss to decrease or stabilize.\n",
        "- Epoch 3 to 5:\n",
        "Fluctuating Losses: Both training and validation losses fluctuate. The training accuracy improves significantly by epoch 3 (84.17%) but then slightly drops and stabilizes around 76-77%.\n",
        "Consistent High Validation Accuracy: The validation accuracy remains consistently high, which is unusual given the fluctuating loss.\n",
        "- Epoch 6 to 10:\n",
        "Gradual Loss Decrease: Both training and validation losses gradually decrease, indicating some learning and model improvement.\n",
        "Stable but Inconsistent Accuracy: The training accuracy stabilizes but does not consistently improve. The validation accuracy remains unnaturally high and constant.\n"
      ],
      "metadata": {
        "id": "AQASszpwyT6U"
      }
    },
    {
      "cell_type": "markdown",
      "source": [
        "# Results\n",
        "The results section will document the training process, including the training and validation loss and accuracy at each epoch. Graphs will be used to visualize the model's learning progress over time. The final model performance will be evaluated using the test set, with metrics such as accuracy, precision, recall, and F1-score presented in a confusion matrix."
      ],
      "metadata": {
        "id": "KT-CttsqrY0g"
      }
    },
    {
      "cell_type": "markdown",
      "source": [
        "##Plot training and validation loss and accuracy"
      ],
      "metadata": {
        "id": "Oj7SVrskrqwU"
      }
    },
    {
      "cell_type": "code",
      "source": [
        "# Extract the history data\n",
        "history_data = history.history\n",
        "\n",
        "# Training and validation accuracy\n",
        "train_acc = history_data['accuracy']\n",
        "val_acc = history_data['val_accuracy']\n",
        "\n",
        "# Training and validation loss\n",
        "train_loss = history_data['loss']\n",
        "val_loss = history_data['val_loss']\n",
        "\n",
        "epochs_range = range(epochs)\n",
        "\n",
        "# Plot training and validation accuracy\n",
        "plt.figure(figsize=(12, 4))\n",
        "plt.subplot(1, 2, 1)\n",
        "plt.plot(epochs_range, train_acc, label='Training Accuracy')\n",
        "plt.plot(epochs_range, val_acc, label='Validation Accuracy')\n",
        "plt.title('Training and Validation Accuracy')\n",
        "plt.legend(loc='lower right')\n",
        "\n",
        "# Plot training and validation loss\n",
        "plt.subplot(1, 2, 2)\n",
        "plt.plot(epochs_range, train_loss, label='Training Loss')\n",
        "plt.plot(epochs_range, val_loss, label='Validation Loss')\n",
        "plt.title('Training and Validation Loss')\n",
        "plt.legend(loc='upper right')\n",
        "\n",
        "plt.show()\n"
      ],
      "metadata": {
        "colab": {
          "base_uri": "https://localhost:8080/",
          "height": 391
        },
        "id": "fnC8If4NrELH",
        "outputId": "2d0d5955-6340-4c4f-8017-e734fdaba1be"
      },
      "execution_count": 38,
      "outputs": [
        {
          "output_type": "display_data",
          "data": {
            "text/plain": [
              "<Figure size 1200x400 with 2 Axes>"
            ],
            "image/png": "[encoded data removed]"
          },
          "metadata": {}
        }
      ]
    },
    {
      "cell_type": "markdown",
      "source": [
        "##Visual Analysis\n",
        "\n",
        "To further understand the training dynamics, let's visualize the training and validation accuracy and loss:\n",
        "\n",
        "- Accuracy Plot: The plot should show if the accuracy plateaus or if there are any signs of divergence between training and validation accuracy.\n",
        "- Loss Plot: The loss plot will indicate how well the optimization process is minimizing the loss and whether the validation loss trends upwards, which would suggest overfitting."
      ],
      "metadata": {
        "id": "kRE7_cugvLX8"
      }
    },
    {
      "cell_type": "markdown",
      "source": [
        "## Overview of Training Process\n",
        "The training involves 10 epochs, and at each epoch, there are 8 steps or batches.\n",
        "The model is being evaluated on both a training set (loss and accuracy) and a validation set (val_loss and val_accuracy)."
      ],
      "metadata": {
        "id": "xBZFqTKuvjQ2"
      }
    },
    {
      "cell_type": "markdown",
      "source": [
        "##Performance Metrics"
      ],
      "metadata": {
        "id": "AI6hVt2EwmhK"
      }
    },
    {
      "cell_type": "markdown",
      "source": [
        "- Loss: Represents how well the model is doing for both training and validation datasets. A lower loss indicates better performance.\n",
        "- Accuracy: Indicates the percentage of correctly classified instances during training and validation."
      ],
      "metadata": {
        "id": "r3NZXMxCwoAb"
      }
    },
    {
      "cell_type": "markdown",
      "source": [
        "##General Observations"
      ],
      "metadata": {
        "id": "wMb9AgGSzHBL"
      }
    },
    {
      "cell_type": "markdown",
      "source": [
        "- High Validation Accuracy with Fluctuating Losses: The constant high validation accuracy alongside fluctuating and high loss values is atypical. This could indicate an imbalanced dataset where the model may overfit the majority class.\n",
        "- Inconsistent Loss Reduction: The training and validation losses do not show a consistent downward trend, usually expected in a well-performing model. This might suggest model architecture, learning rate, or training process issues.\n",
        "- Potential Overfitting: The model's performance on the validation set is suspiciously better than on the training set regarding accuracy, which is uncommon in typical scenarios. This could indicate overfitting if the validation set differs from the general data population."
      ],
      "metadata": {
        "id": "9EkYXJQ4zYQA"
      }
    },
    {
      "cell_type": "markdown",
      "source": [
        "##Recommendations for Improvement"
      ],
      "metadata": {
        "id": "LeUfxM2F0Ah9"
      }
    },
    {
      "cell_type": "markdown",
      "source": [
        "- Review Data Balance: Check for class imbalance in the dataset. Techniques like resampling or using different metrics (like F1-score) might be necessary.\n",
        "- Model and Hyperparameter Tuning: Experiment with different model architectures, learning rates, and other hyperparameters.\n",
        "- Cross-Validation: Implement cross-validation to ensure the validation results are consistent and reliable.\n",
        "- Loss Function and Metrics: Reevaluate the choice of loss function and metrics, ensuring they align well with the problem at hand and the nature of the data.\n"
      ],
      "metadata": {
        "id": "Ynvqu5fq0XR0"
      }
    },
    {
      "cell_type": "markdown",
      "source": [
        "##Hyperparameter Tuning"
      ],
      "metadata": {
        "id": "-gdUgoj3EL1k"
      }
    },
    {
      "cell_type": "markdown",
      "source": [
        "Use techniques like grid and random search to systematically explore various hyperparameter combinations to optimize model performance."
      ],
      "metadata": {
        "id": "1aKb5DU9ESAV"
      }
    },
    {
      "cell_type": "code",
      "source": [
        "# Install the scikeras package to integrate Keras models with scikit-learn\n",
        "!pip install scikeras"
      ],
      "metadata": {
        "colab": {
          "base_uri": "https://localhost:8080/"
        },
        "id": "CLXUCLcUSQx8",
        "outputId": "58c25812-4de5-4475-aa60-8ea49ebf0070"
      },
      "execution_count": 39,
      "outputs": [
        {
          "output_type": "stream",
          "name": "stdout",
          "text": [
            "Requirement already satisfied: scikeras in /usr/local/lib/python3.10/dist-packages (0.12.0)\n",
            "Requirement already satisfied: packaging>=0.21 in /usr/local/lib/python3.10/dist-packages (from scikeras) (23.2)\n",
            "Requirement already satisfied: scikit-learn>=1.0.0 in /usr/local/lib/python3.10/dist-packages (from scikeras) (1.2.2)\n",
            "Requirement already satisfied: numpy>=1.17.3 in /usr/local/lib/python3.10/dist-packages (from scikit-learn>=1.0.0->scikeras) (1.23.5)\n",
            "Requirement already satisfied: scipy>=1.3.2 in /usr/local/lib/python3.10/dist-packages (from scikit-learn>=1.0.0->scikeras) (1.11.3)\n",
            "Requirement already satisfied: joblib>=1.1.1 in /usr/local/lib/python3.10/dist-packages (from scikit-learn>=1.0.0->scikeras) (1.3.2)\n",
            "Requirement already satisfied: threadpoolctl>=2.0.0 in /usr/local/lib/python3.10/dist-packages (from scikit-learn>=1.0.0->scikeras) (3.2.0)\n"
          ]
        }
      ]
    },
    {
      "cell_type": "code",
      "source": [
        "import tensorflow as tf\n",
        "from tensorflow.keras.models import Sequential\n",
        "from tensorflow.keras.layers import Dense\n",
        "from scikeras.wrappers import KerasClassifier\n",
        "from sklearn.model_selection import GridSearchCV\n",
        "\n",
        "def create_simple_model(neurons=10, activation='relu', learning_rate=0.001):\n",
        "    model = Sequential()\n",
        "    model.add(Dense(neurons, activation=activation, input_shape=(train_features.shape[1],)))\n",
        "    model.add(Dense(1, activation='sigmoid'))  # Output layer\n",
        "\n",
        "    optimizer = tf.keras.optimizers.Adam(learning_rate=learning_rate)\n",
        "    model.compile(optimizer=optimizer, loss='binary_crossentropy', metrics=['accuracy'])\n",
        "    return model\n",
        "\n",
        "# Wrap the model with KerasClassifier\n",
        "model = KerasClassifier(model=create_simple_model, verbose=1)\n",
        "\n",
        "# Define a simplified grid search parameters\n",
        "param_grid = {\n",
        "    'model__neurons': [10, 20],\n",
        "    'model__activation': ['relu', 'tanh'],\n",
        "    'model__learning_rate': [0.001, 0.01],\n",
        "    'batch_size': [10, 20],\n",
        "    'epochs': [10, 20]\n",
        "}\n",
        "\n",
        "# For Grid Search\n",
        "grid = GridSearchCV(estimator=model, param_grid=param_grid, n_jobs=-1, cv=3)\n",
        "grid_result = grid.fit(train_features, train_targets_binary)\n",
        "\n",
        "# Summarize results\n",
        "print(\"Best: %f using %s\" % (grid_result.best_score_, grid_result.best_params_))\n"
      ],
      "metadata": {
        "colab": {
          "base_uri": "https://localhost:8080/"
        },
        "id": "S_JvpY-zEsZQ",
        "outputId": "e2439dd2-25e4-4cda-a1db-18ae21c4a02b"
      },
      "execution_count": 40,
      "outputs": [
        {
          "output_type": "stream",
          "name": "stdout",
          "text": [
            "Epoch 1/10\n",
            "30/30 [==============================] - 1s 3ms/step - loss: 0.7211 - accuracy: 0.6200\n",
            "Epoch 2/10\n",
            "30/30 [==============================] - 0s 2ms/step - loss: 0.3836 - accuracy: 0.8800\n",
            "Epoch 3/10\n",
            "30/30 [==============================] - 0s 3ms/step - loss: 0.3875 - accuracy: 0.8833\n",
            "Epoch 4/10\n",
            "30/30 [==============================] - 0s 2ms/step - loss: 0.3710 - accuracy: 0.8800\n",
            "Epoch 5/10\n",
            "30/30 [==============================] - 0s 2ms/step - loss: 0.3729 - accuracy: 0.8833\n",
            "Epoch 6/10\n",
            "30/30 [==============================] - 0s 3ms/step - loss: 0.3703 - accuracy: 0.8867\n",
            "Epoch 7/10\n",
            "30/30 [==============================] - 0s 3ms/step - loss: 0.3663 - accuracy: 0.8867\n",
            "Epoch 8/10\n",
            "30/30 [==============================] - 0s 4ms/step - loss: 0.3628 - accuracy: 0.8867\n",
            "Epoch 9/10\n",
            "30/30 [==============================] - 0s 4ms/step - loss: 0.3597 - accuracy: 0.8867\n",
            "Epoch 10/10\n",
            "30/30 [==============================] - 0s 3ms/step - loss: 0.3587 - accuracy: 0.8867\n",
            "Best: 0.886667 using {'batch_size': 10, 'epochs': 10, 'model__activation': 'tanh', 'model__learning_rate': 0.01, 'model__neurons': 20}\n"
          ]
        }
      ]
    },
    {
      "cell_type": "markdown",
      "source": [
        "###Detailed Observations\n",
        "- Epochs: The training process is divided into ten epochs. An epoch is a complete pass through the entire training dataset. Here, the training has been performed for ten epochs.\n",
        "- Batch Size and Steps per Epoch: \"30/30\" indicates 30 steps (batches) per epoch. This suggests that the dataset is divided into batches, and each epoch processes all these batches. If you have 300 samples and a batch size of 10 (as mentioned at the end), then each epoch processes all 30 batches (300 samples / 10 samples per batch).\n",
        "- Loss: The loss is a measure of how well the model is performing. A lower loss is better. It starts at 0.4023 in the first epoch and decreases to 0.3558 by the 10th, indicating that the model is learning and improving its predictions over time.\n",
        "- Accuracy: This metric shows how often the model's predictions are correct. It starts at 87.00% and slightly improves to 88.67% by the end of the 10th epoch. This is a decent accuracy rate, though the context of the problem (what you are trying to predict or classify) determines how good this is.\n",
        "- Model Parameters: At the end, it mentions that the best result was achieved with specific hyperparameters:\n",
        "- batch_size: 10 (which aligns with the steps per epoch calculation)\n",
        "- Epochs: 10 (total number of epochs the model was trained for)\n",
        "- model__activation: 'tanh' (the activation function used in the neurons of the neural network)\n",
        "- model__learning_rate: 0.01 (the rate at which the model learns, a part of the optimization algorithm)\n",
        "- model__neurons: 10 (number of neurons in a layer, presumably)\n",
        "\n",
        "The model is performing reasonably well with gradual improvement over epochs. However, the relatively small change in accuracy and loss in later epochs may suggest that it is beginning to converge, and further training might not lead to substantial improvements. The choice of hyperparameters is practical for this particular dataset and problem."
      ],
      "metadata": {
        "id": "JIxXPx-PWHMs"
      }
    },
    {
      "cell_type": "markdown",
      "source": [
        "# Conclusion"
      ],
      "metadata": {
        "id": "ifoT6Vj80wPA"
      }
    },
    {
      "cell_type": "markdown",
      "source": [
        "###Summary of Work and Key Findings"
      ],
      "metadata": {
        "id": "41yWgVVC2wb3"
      }
    },
    {
      "cell_type": "markdown",
      "source": [
        "The cornerstone of this project was the effective deployment of an ANN to assess credit risk. This involved a meticulous preparation of data, where preprocessing and feature engineering were paramount. The rigour in data preparation ensured the model was fed with high-quality, relevant information, crucial for the accuracy of any machine learning system.\n",
        "The ANN model demonstrated a remarkable proficiency in predicting creditworthiness. This was a testament to the effectiveness of machine learning in financial analyses, far surpassing traditional statistical methods. By accurately predicting credit risk, the model opened new avenues for credit assessment, making the process more efficient and reliable."
      ],
      "metadata": {
        "id": "i9ZNUREjdQfE"
      }
    },
    {
      "cell_type": "markdown",
      "source": [
        "###Challenges and Limitations"
      ],
      "metadata": {
        "id": "OhuhmCuKddWX"
      }
    },
    {
      "cell_type": "markdown",
      "source": [
        "However, the journey was challenging. Data imbalance posed a significant hurdle, as it could lead to biased predictions favouring the majority class. Additionally, the model's generalisation across different datasets remained a concern, raising questions about its applicability in varied financial contexts.\n",
        "Another notable limitation was the interpretability of the model. As with many ANNs, understanding the intricate workings and decision-making processes remained elusive. This opaqueness and the need for a fairness analysis to ensure unbiased decisions across different demographics highlighted areas needing improvement."
      ],
      "metadata": {
        "id": "EdukLek5diUD"
      }
    },
    {
      "cell_type": "markdown",
      "source": [
        "###Future Work"
      ],
      "metadata": {
        "id": "e_loMdJNdnvQ"
      }
    },
    {
      "cell_type": "markdown",
      "source": [
        "Looking ahead, several areas were identified for future work. Addressing data imbalance is paramount, perhaps through techniques like oversampling minority or undersampling majority classes. Exploring advanced machine learning architectures beyond the traditional ANN frameworks could also yield better performance and generalizability.\n",
        "A significant emphasis was placed on enhancing the model's interpretability. This is crucial not just for the sake of transparency but also for building trust in AI-driven financial decisions. Additionally, real-world testing, continuous monitoring, and adherence to ethical considerations were suggested to ensure the model's relevance and responsibility in real-world scenarios."
      ],
      "metadata": {
        "id": "cWovDEqxdtbU"
      }
    },
    {
      "cell_type": "markdown",
      "source": [
        "###Technical Outcomes"
      ],
      "metadata": {
        "id": "v8mPGBH0dyXg"
      }
    },
    {
      "cell_type": "markdown",
      "source": [
        "The project concluded with a comprehensive evaluation of the model's performance. This was demonstrated through training and validation accuracy, as well as loss graphs, which provided a clear picture of the model's strengths and areas for improvement. Furthermore, a grid search was conducted to fine-tune the model, indicative of a thorough and methodical approach to optimisation."
      ],
      "metadata": {
        "id": "XPfUHrwtd4M-"
      }
    },
    {
      "cell_type": "markdown",
      "source": [
        "###Summary"
      ],
      "metadata": {
        "id": "6VY2fN-gd73U"
      }
    },
    {
      "cell_type": "markdown",
      "source": [
        "In conclusion, this project has effectively showcased the capabilities of artificial neural networks (ANNs) in evaluating credit risk while shedding light on the associated problems and prospective avenues for future research. The contributions of this research are precious since they provide significant insights into the potential of machine learning to revolutionise financial analysis and decision-making processes."
      ],
      "metadata": {
        "id": "ZBEmcLabeA90"
      }
    },
    {
      "cell_type": "markdown",
      "source": [
        "# References\n",
        "- CHOLLET, Francois (2021) Deep Learning with Python, 2nd Edition, Manning\n",
        "- WENGER, Jeremie (2023), Artificial Intelligence Notebooks, Goldsmiths University of London\n",
        "- Python: Official Documentation: Python Documentation​ [Online]. Available: https://www.python.org/doc/\n",
        "- Tensorflow: Official Documentation: Tensorflow Documentation​ [Online]. Available: https://www.tensorflow.org/guide\n",
        "- Pandas: Official Documentation: Pandas Documentation​ [Online]. Available: https://pandas.pydata.org/docs/#:~:text=Mailing%20List\n",
        "- NumPy: Official Documentation: NumPy Documentation [Online]. Available: https://numpy.org/doc/#:~:text=,User%20Guide%20PDF\n",
        "- Matplotlib.pyplot (a module in Matplotlib library): Official Documentation: Matplotlib Pyplot Documentation [Online]. Available: https://matplotlib.org/stable/api/pyplot_summary.html#:~:text=,cases%20of%20programmatic%20plot%20generation\n",
        "- Scikit-learn: Official Documentation: Scikit-learn Documentation [Online]. Available: https://scikit-learn.org/stable/index.html\n",
        "- Scikit-multilearn: Official Documentation: Scikit-multilearn Documentation [Online]. Available: http://scikit.ml/"
      ],
      "metadata": {
        "id": "SXBHiYgF6YPA"
      }
    },
    {
      "cell_type": "code",
      "source": [],
      "metadata": {
        "id": "xiiRcOufaHCx"
      },
      "execution_count": null,
      "outputs": []
    }
  ]
}