{
  "nbformat": 4,
  "nbformat_minor": 0,
  "metadata": {
    "colab": {
      "provenance": [],
      "authorship_tag": "ABX9TyNImzAaGk/e9GQEU+HszYl7",
      "include_colab_link": true
    },
    "kernelspec": {
      "name": "python3",
      "display_name": "Python 3"
    },
    "language_info": {
      "name": "python"
    }
  },
  "cells": [
    {
      "cell_type": "markdown",
      "metadata": {
        "id": "view-in-github",
        "colab_type": "text"
      },
      "source": [
        "<a href=\"https://colab.research.google.com/github/carlos-alves-one/-AI-Coursework-1/blob/main/neuro_credit_report.ipynb\" target=\"_parent\"><img src=\"https://colab.research.google.com/assets/colab-badge.svg\" alt=\"Open In Colab\"/></a>"
      ]
    },
    {
      "cell_type": "markdown",
      "source": [
        "### Goldsmiths University of London\n",
        "### MSc. Data Science and Artificial Intelligence\n",
        "### Module: Artificial Intelligence\n",
        "### Author: Carlos Manuel De Oliveira Alves\n",
        "### Student: cdeol003\n",
        "### Coursework No.1"
      ],
      "metadata": {
        "id": "SMej7heamC38"
      }
    },
    {
      "cell_type": "markdown",
      "source": [
        "#Project\n",
        "NeuroCredit: Leveraging ANN for Credit Risk Assessment"
      ],
      "metadata": {
        "id": "XJNAcOo5mlJA"
      }
    },
    {
      "cell_type": "markdown",
      "source": [
        "# Introduction\n",
        "In the previous academic year, I undertook the development of an extensive dataset as a component of my research project for the purpose of obtaining a degree in Computer Science. This dataset encompasses a wide range of factors relevant to credit analysis and integrates them into a cohesive framework. Titled \"Neuro Credit Analysis,\" the dataset served as a fundamental resource for investigating the complex realm of credit rating and financial behaviour through computer approaches. The objective of this dataset is to utilise advanced computational methods to decipher the patterns and determinants associated with credit activity. This research aims to investigate the impact of various characteristics on an individual's creditworthiness and the probability of loan approval by utilising machine learning, data analysis, and predictive modelling techniques. The process of constructing this dataset was conducted with great attention to detail, encompassing diligent gathering, thorough cleaning, and precise data organisation. The utilisation of this tool enabled a comprehensive examination for my scholarly endeavour and made a substantial contribution to the study of financial data."
      ],
      "metadata": {
        "id": "eLQvW-MbmlFy"
      }
    },
    {
      "cell_type": "code",
      "source": [],
      "metadata": {
        "id": "Ubx0CXYSrfa4"
      },
      "execution_count": null,
      "outputs": []
    }
  ]
}